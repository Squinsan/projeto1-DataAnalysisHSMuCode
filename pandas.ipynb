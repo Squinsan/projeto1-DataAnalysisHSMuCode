{
  "nbformat": 4,
  "nbformat_minor": 0,
  "metadata": {
    "colab": {
      "name": "pandas.ipynb",
      "provenance": [],
      "authorship_tag": "ABX9TyN7LaFviPzlYP/fM79DjIWi",
      "include_colab_link": true
    },
    "kernelspec": {
      "name": "python3",
      "display_name": "Python 3"
    },
    "language_info": {
      "name": "python"
    }
  },
  "cells": [
    {
      "cell_type": "markdown",
      "metadata": {
        "id": "view-in-github",
        "colab_type": "text"
      },
      "source": [
        "<a href=\"https://colab.research.google.com/github/CristinaPineda/projeto1-DataAnalysisHSMuCode/blob/main/pandas.ipynb\" target=\"_parent\"><img src=\"https://colab.research.google.com/assets/colab-badge.svg\" alt=\"Open In Colab\"/></a>"
      ]
    },
    {
      "cell_type": "markdown",
      "metadata": {
        "id": "idSFbwm7XPSq"
      },
      "source": [
        "# Data Analysis\n",
        "\n",
        "## Instruções do projeto\n",
        "\n",
        "Na base de dados de infrações de trânsito, analise o mês de julho de 2020.\n",
        "Para acessá-la, basta clicar no link em anexo.\n",
        "\n",
        "### Perguntas que podem ser respondidas durante a análise:\n",
        "* Qual é o total de infrações por tipo de infração (leve, média, grave, gravíssima)?\n",
        "* Qual é o total de infrações por dia?\n",
        "* A base de dados possui valores faltantes?\n",
        "\n",
        "Suba o código utilizado na análise dos dados na conta do Github e compartilhe o link do projeto no campo ao lado para que outros desenvolvedores possam analisá-lo."
      ]
    },
    {
      "cell_type": "code",
      "metadata": {
        "id": "L52dA27LXiDI"
      },
      "source": [
        "# importando pandas\n",
        "import pandas as pd \n",
        "import numpy as np"
      ],
      "execution_count": 18,
      "outputs": []
    },
    {
      "cell_type": "code",
      "metadata": {
        "id": "iIcDi3LqYHZ7"
      },
      "source": [
        "# importando arquivo para análise\n",
        "df = pd.read_csv('julho.csv', sep=';')\n",
        "df.head()"
      ],
      "execution_count": null,
      "outputs": []
    },
    {
      "cell_type": "code",
      "metadata": {
        "colab": {
          "base_uri": "https://localhost:8080/",
          "height": 278
        },
        "id": "GJbA2v-bZJkV",
        "outputId": "8bfbbacc-ba95-455a-801e-71c352fdc69d"
      },
      "source": [
        "df.describe()"
      ],
      "execution_count": 28,
      "outputs": [
        {
          "output_type": "execute_result",
          "data": {
            "text/html": [
              "<div>\n",
              "<style scoped>\n",
              "    .dataframe tbody tr th:only-of-type {\n",
              "        vertical-align: middle;\n",
              "    }\n",
              "\n",
              "    .dataframe tbody tr th {\n",
              "        vertical-align: top;\n",
              "    }\n",
              "\n",
              "    .dataframe thead th {\n",
              "        text-align: right;\n",
              "    }\n",
              "</style>\n",
              "<table border=\"1\" class=\"dataframe\">\n",
              "  <thead>\n",
              "    <tr style=\"text-align: right;\">\n",
              "      <th></th>\n",
              "      <th>tipo_infracao</th>\n",
              "      <th>descricao</th>\n",
              "      <th>tipo_infrator</th>\n",
              "      <th>tipo_veiculo</th>\n",
              "      <th>cometimento</th>\n",
              "      <th>hora_cometimento</th>\n",
              "      <th>auinf_local_rodovia</th>\n",
              "      <th>auinf_local_km</th>\n",
              "      <th>auinf_local_referencia</th>\n",
              "      <th>auinf_local_complemento</th>\n",
              "      <th>auinf_local_latitude</th>\n",
              "      <th>auinf_local_longitude</th>\n",
              "      <th>grav_tipo</th>\n",
              "    </tr>\n",
              "  </thead>\n",
              "  <tbody>\n",
              "    <tr>\n",
              "      <th>count</th>\n",
              "      <td>77348</td>\n",
              "      <td>77348</td>\n",
              "      <td>77348</td>\n",
              "      <td>77331</td>\n",
              "      <td>77348</td>\n",
              "      <td>77348</td>\n",
              "      <td>77342</td>\n",
              "      <td>13373</td>\n",
              "      <td>13148</td>\n",
              "      <td>3079</td>\n",
              "      <td>12221</td>\n",
              "      <td>12221</td>\n",
              "      <td>77348</td>\n",
              "    </tr>\n",
              "    <tr>\n",
              "      <th>unique</th>\n",
              "      <td>137</td>\n",
              "      <td>137</td>\n",
              "      <td>2</td>\n",
              "      <td>39</td>\n",
              "      <td>31</td>\n",
              "      <td>1440</td>\n",
              "      <td>348</td>\n",
              "      <td>130</td>\n",
              "      <td>34</td>\n",
              "      <td>225</td>\n",
              "      <td>10515</td>\n",
              "      <td>10537</td>\n",
              "      <td>4</td>\n",
              "    </tr>\n",
              "    <tr>\n",
              "      <th>top</th>\n",
              "      <td>7455-0</td>\n",
              "      <td>Transitar em velocidade superior à máxima perm...</td>\n",
              "      <td>Condutor</td>\n",
              "      <td>AUTOMOVEL</td>\n",
              "      <td>03/07/2020</td>\n",
              "      <td>12:40</td>\n",
              "      <td>DF-075 (EPNB) KM 7,6 SENTIDO R. FUNDO/SAMAMBAI...</td>\n",
              "      <td>69</td>\n",
              "      <td>Sentido Crescente</td>\n",
              "      <td>km 69</td>\n",
              "      <td>0.0</td>\n",
              "      <td>0.0</td>\n",
              "      <td>Média</td>\n",
              "    </tr>\n",
              "    <tr>\n",
              "      <th>freq</th>\n",
              "      <td>44594</td>\n",
              "      <td>44594</td>\n",
              "      <td>74486</td>\n",
              "      <td>40926</td>\n",
              "      <td>2943</td>\n",
              "      <td>132</td>\n",
              "      <td>6274</td>\n",
              "      <td>1928</td>\n",
              "      <td>6580</td>\n",
              "      <td>515</td>\n",
              "      <td>932</td>\n",
              "      <td>932</td>\n",
              "      <td>48184</td>\n",
              "    </tr>\n",
              "  </tbody>\n",
              "</table>\n",
              "</div>"
            ],
            "text/plain": [
              "       tipo_infracao  ... grav_tipo\n",
              "count          77348  ...     77348\n",
              "unique           137  ...         4\n",
              "top           7455-0  ...     Média\n",
              "freq           44594  ...     48184\n",
              "\n",
              "[4 rows x 13 columns]"
            ]
          },
          "metadata": {
            "tags": []
          },
          "execution_count": 28
        }
      ]
    },
    {
      "cell_type": "code",
      "metadata": {
        "colab": {
          "base_uri": "https://localhost:8080/"
        },
        "id": "w10T134qcZI8",
        "outputId": "702ac9a6-51d1-4a98-a226-47671d341102"
      },
      "source": [
        "# tamanho do df\n",
        "df.shape"
      ],
      "execution_count": 37,
      "outputs": [
        {
          "output_type": "execute_result",
          "data": {
            "text/plain": [
              "(77348, 13)"
            ]
          },
          "metadata": {
            "tags": []
          },
          "execution_count": 37
        }
      ]
    },
    {
      "cell_type": "code",
      "metadata": {
        "colab": {
          "base_uri": "https://localhost:8080/"
        },
        "id": "y1LObbjMceKV",
        "outputId": "dfe52b48-319a-4110-c88d-69455b32865b"
      },
      "source": [
        "# colunas do df\n",
        "df.columns"
      ],
      "execution_count": 38,
      "outputs": [
        {
          "output_type": "execute_result",
          "data": {
            "text/plain": [
              "Index(['tipo_infracao', 'descricao', 'tipo_infrator', 'tipo_veiculo',\n",
              "       'cometimento', 'hora_cometimento', 'auinf_local_rodovia',\n",
              "       'auinf_local_km', 'auinf_local_referencia', 'auinf_local_complemento',\n",
              "       'auinf_local_latitude', 'auinf_local_longitude', 'grav_tipo'],\n",
              "      dtype='object')"
            ]
          },
          "metadata": {
            "tags": []
          },
          "execution_count": 38
        }
      ]
    },
    {
      "cell_type": "code",
      "metadata": {
        "colab": {
          "base_uri": "https://localhost:8080/"
        },
        "id": "hBTtBTbOcnFC",
        "outputId": "bc32f212-ff7f-415a-aaff-c0e053324788"
      },
      "source": [
        "# tipos de dados\n",
        "df.dtypes"
      ],
      "execution_count": 39,
      "outputs": [
        {
          "output_type": "execute_result",
          "data": {
            "text/plain": [
              "tipo_infracao              object\n",
              "descricao                  object\n",
              "tipo_infrator              object\n",
              "tipo_veiculo               object\n",
              "cometimento                object\n",
              "hora_cometimento           object\n",
              "auinf_local_rodovia        object\n",
              "auinf_local_km             object\n",
              "auinf_local_referencia     object\n",
              "auinf_local_complemento    object\n",
              "auinf_local_latitude       object\n",
              "auinf_local_longitude      object\n",
              "grav_tipo                  object\n",
              "dtype: object"
            ]
          },
          "metadata": {
            "tags": []
          },
          "execution_count": 39
        }
      ]
    },
    {
      "cell_type": "code",
      "metadata": {
        "colab": {
          "base_uri": "https://localhost:8080/"
        },
        "id": "ZGViukulYjS3",
        "outputId": "5f278c24-8e87-45a9-bc01-5c7490312809"
      },
      "source": [
        "# Qual é o total de infrações por tipo de infração (leve, média, grave, gravíssima)?\n",
        "dfTipoInfracao = df.groupby(\"grav_tipo\")[\"grav_tipo\"].count()\n",
        "dfTipoInfracao.dtypes\n",
        "dfTipoInfracao"
      ],
      "execution_count": 46,
      "outputs": [
        {
          "output_type": "execute_result",
          "data": {
            "text/plain": [
              "grav_tipo\n",
              "Grave          8195\n",
              "Gravíssima     6254\n",
              "Leve          14715\n",
              "Média         48184\n",
              "Name: grav_tipo, dtype: int64"
            ]
          },
          "metadata": {
            "tags": []
          },
          "execution_count": 46
        }
      ]
    },
    {
      "cell_type": "code",
      "metadata": {
        "colab": {
          "base_uri": "https://localhost:8080/",
          "height": 345
        },
        "id": "LFayc9f1brOh",
        "outputId": "a5fc3206-6464-4c80-fab7-48781ac48284"
      },
      "source": [
        "dfTipoInfracao.sort_values().plot(kind='bar')"
      ],
      "execution_count": 49,
      "outputs": [
        {
          "output_type": "execute_result",
          "data": {
            "text/plain": [
              "<matplotlib.axes._subplots.AxesSubplot at 0x7f58bdbc8b50>"
            ]
          },
          "metadata": {
            "tags": []
          },
          "execution_count": 49
        },
        {
          "output_type": "display_data",
          "data": {
            "image/png": "[encoded data removed]",
            "text/plain": [
              "<Figure size 432x288 with 1 Axes>"
            ]
          },
          "metadata": {
            "tags": [],
            "needs_background": "light"
          }
        }
      ]
    },
    {
      "cell_type": "code",
      "metadata": {
        "colab": {
          "base_uri": "https://localhost:8080/"
        },
        "id": "DS0SuFRxbRKJ",
        "outputId": "c0393efd-b8b3-4dc0-c2aa-b764cd986cdb"
      },
      "source": [
        "# Total de infracoes por dia\n",
        "dfInfracaoPorDia = df.groupby(\"cometimento\")[\"cometimento\"].count()\n",
        "dfInfracaoPorDia"
      ],
      "execution_count": 51,
      "outputs": [
        {
          "output_type": "execute_result",
          "data": {
            "text/plain": [
              "cometimento\n",
              "01/07/2020    2807\n",
              "02/07/2020    2849\n",
              "03/07/2020    2943\n",
              "04/07/2020    2111\n",
              "05/07/2020    1812\n",
              "06/07/2020    2376\n",
              "07/07/2020    2601\n",
              "08/07/2020    2588\n",
              "09/07/2020    2686\n",
              "10/07/2020    2786\n",
              "11/07/2020    1975\n",
              "12/07/2020    1889\n",
              "13/07/2020    2623\n",
              "14/07/2020    2587\n",
              "15/07/2020    2717\n",
              "16/07/2020    2678\n",
              "17/07/2020    2846\n",
              "18/07/2020    2156\n",
              "19/07/2020    1895\n",
              "20/07/2020    2543\n",
              "21/07/2020    2553\n",
              "22/07/2020    2752\n",
              "23/07/2020    2540\n",
              "24/07/2020    2753\n",
              "25/07/2020    2149\n",
              "26/07/2020    1818\n",
              "27/07/2020    2763\n",
              "28/07/2020    2413\n",
              "29/07/2020    2737\n",
              "30/07/2020    2670\n",
              "31/07/2020    2732\n",
              "Name: cometimento, dtype: int64"
            ]
          },
          "metadata": {
            "tags": []
          },
          "execution_count": 51
        }
      ]
    },
    {
      "cell_type": "code",
      "metadata": {
        "colab": {
          "base_uri": "https://localhost:8080/"
        },
        "id": "4cZowzO6bW5v",
        "outputId": "9ba5c1cc-d3d9-47f9-bee4-2b96330b1364"
      },
      "source": [
        "# Base possui valores faltantes\n",
        "df.isnull().sum()"
      ],
      "execution_count": 32,
      "outputs": [
        {
          "output_type": "execute_result",
          "data": {
            "text/plain": [
              "tipo_infracao                  0\n",
              "descricao                      0\n",
              "tipo_infrator                  0\n",
              "tipo_veiculo                  17\n",
              "cometimento                    0\n",
              "hora_cometimento               0\n",
              "auinf_local_rodovia            6\n",
              "auinf_local_km             63975\n",
              "auinf_local_referencia     64200\n",
              "auinf_local_complemento    74269\n",
              "auinf_local_latitude       65127\n",
              "auinf_local_longitude      65127\n",
              "grav_tipo                      0\n",
              "dtype: int64"
            ]
          },
          "metadata": {
            "tags": []
          },
          "execution_count": 32
        }
      ]
    },
    {
      "cell_type": "code",
      "metadata": {
        "id": "93dlfxTLbegS"
      },
      "source": [
        "# excluir dasos faltantes\n",
        "\n",
        "df.dropna(subset=[\"tipo_veiculo\"], inplace=True)\n",
        "df.dropna(subset=[\"auinf_local_rodovia\"], inplace=True)\n",
        "df.dropna(subset=[\"auinf_local_km\"], inplace=True)\n",
        "df.dropna(subset=[\"auinf_local_referencia\"], inplace=True)\n",
        "df.dropna(subset=[\"auinf_local_complemento\"], inplace=True)\n",
        "df.dropna(subset=[\"auinf_local_latitude\"], inplace=True)\n",
        "df.dropna(subset=[\"auinf_local_longitude\"], inplace=True)"
      ],
      "execution_count": 55,
      "outputs": []
    },
    {
      "cell_type": "code",
      "metadata": {
        "colab": {
          "base_uri": "https://localhost:8080/"
        },
        "id": "PGI47p88fAfd",
        "outputId": "ad0fbcf7-0b16-4a1d-f2e8-05a47396dc29"
      },
      "source": [
        "df.isnull().sum()"
      ],
      "execution_count": 56,
      "outputs": [
        {
          "output_type": "execute_result",
          "data": {
            "text/plain": [
              "tipo_infracao              0\n",
              "descricao                  0\n",
              "tipo_infrator              0\n",
              "tipo_veiculo               0\n",
              "cometimento                0\n",
              "hora_cometimento           0\n",
              "auinf_local_rodovia        0\n",
              "auinf_local_km             0\n",
              "auinf_local_referencia     0\n",
              "auinf_local_complemento    0\n",
              "auinf_local_latitude       0\n",
              "auinf_local_longitude      0\n",
              "grav_tipo                  0\n",
              "dtype: int64"
            ]
          },
          "metadata": {
            "tags": []
          },
          "execution_count": 56
        }
      ]
    }
  ]
}