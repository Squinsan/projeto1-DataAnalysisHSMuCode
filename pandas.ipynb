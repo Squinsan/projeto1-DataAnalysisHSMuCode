{
  "nbformat": 4,
  "nbformat_minor": 0,
  "metadata": {
    "colab": {
      "name": "pandas.ipynb",
      "provenance": [],
      "authorship_tag": "ABX9TyPuEAQG7EgSc4xa0fRQyM4m",
      "include_colab_link": true
    },
    "kernelspec": {
      "name": "python3",
      "display_name": "Python 3"
    },
    "language_info": {
      "name": "python"
    }
  },
  "cells": [
    {
      "cell_type": "markdown",
      "metadata": {
        "id": "view-in-github",
        "colab_type": "text"
      },
      "source": [
        "<a href=\"https://colab.research.google.com/github/CristinaPineda/projeto1-DataAnalysisHSMuCode/blob/main/pandas.ipynb\" target=\"_parent\"><img src=\"https://colab.research.google.com/assets/colab-badge.svg\" alt=\"Open In Colab\"/></a>"
      ]
    },
    {
      "cell_type": "markdown",
      "metadata": {
        "id": "idSFbwm7XPSq"
      },
      "source": [
        "# Data Analysis\n",
        "\n",
        "## Instruções do projeto\n",
        "\n",
        "Na base de dados de infrações de trânsito, analise o mês de julho de 2020.\n",
        "Para acessá-la, basta clicar no link em anexo.\n",
        "\n",
        "### Perguntas que podem ser respondidas durante a análise:\n",
        "* Qual é o total de infrações por tipo de infração (leve, média, grave, gravíssima)?\n",
        "* Qual é o total de infrações por dia?\n",
        "* A base de dados possui valores faltantes?\n",
        "\n",
        "Suba o código utilizado na análise dos dados na conta do Github e compartilhe o link do projeto no campo ao lado para que outros desenvolvedores possam analisá-lo."
      ]
    },
    {
      "cell_type": "code",
      "metadata": {
        "id": "L52dA27LXiDI"
      },
      "source": [
        "# importando pandas\n",
        "import pandas as pd \n",
        "import numpy as np"
      ],
      "execution_count": 3,
      "outputs": []
    },
    {
      "cell_type": "code",
      "metadata": {
        "id": "iIcDi3LqYHZ7",
        "colab": {
          "base_uri": "https://localhost:8080/",
          "height": 649
        },
        "outputId": "bd787b49-289c-44f3-ca03-1dcbc49c1613"
      },
      "source": [
        "# importando arquivo para análise\n",
        "df = pd.read_csv('julho.csv', sep=';')\n",
        "df.head()"
      ],
      "execution_count": 4,
      "outputs": [
        {
          "output_type": "execute_result",
          "data": {
            "text/html": [
              "<div>\n",
              "<style scoped>\n",
              "    .dataframe tbody tr th:only-of-type {\n",
              "        vertical-align: middle;\n",
              "    }\n",
              "\n",
              "    .dataframe tbody tr th {\n",
              "        vertical-align: top;\n",
              "    }\n",
              "\n",
              "    .dataframe thead th {\n",
              "        text-align: right;\n",
              "    }\n",
              "</style>\n",
              "<table border=\"1\" class=\"dataframe\">\n",
              "  <thead>\n",
              "    <tr style=\"text-align: right;\">\n",
              "      <th></th>\n",
              "      <th>tipo_infracao</th>\n",
              "      <th>descricao</th>\n",
              "      <th>tipo_infrator</th>\n",
              "      <th>tipo_veiculo</th>\n",
              "      <th>cometimento</th>\n",
              "      <th>hora_cometimento</th>\n",
              "      <th>auinf_local_rodovia</th>\n",
              "      <th>auinf_local_km</th>\n",
              "      <th>auinf_local_referencia</th>\n",
              "      <th>auinf_local_complemento</th>\n",
              "      <th>auinf_local_latitude</th>\n",
              "      <th>auinf_local_longitude</th>\n",
              "      <th>grav_tipo</th>\n",
              "    </tr>\n",
              "  </thead>\n",
              "  <tbody>\n",
              "    <tr>\n",
              "      <th>0</th>\n",
              "      <td>7455-0</td>\n",
              "      <td>Transitar em velocidade superior à máxima perm...</td>\n",
              "      <td>Condutor</td>\n",
              "      <td>MOTOCICLET</td>\n",
              "      <td>01/07/2020</td>\n",
              "      <td>00:02</td>\n",
              "      <td>DF-003 (EPIA) KM 21,0 SENTIDO SUL             ...</td>\n",
              "      <td>NaN</td>\n",
              "      <td>NaN</td>\n",
              "      <td>NaN</td>\n",
              "      <td>NaN</td>\n",
              "      <td>NaN</td>\n",
              "      <td>Média</td>\n",
              "    </tr>\n",
              "    <tr>\n",
              "      <th>1</th>\n",
              "      <td>7463-0</td>\n",
              "      <td>Transitar em velocidade superior à máxima perm...</td>\n",
              "      <td>Condutor</td>\n",
              "      <td>UTILITARIO</td>\n",
              "      <td>01/07/2020</td>\n",
              "      <td>00:04</td>\n",
              "      <td>DF-075(EPNB) KM 02 SENTIDO SAMAMBAIA          ...</td>\n",
              "      <td>NaN</td>\n",
              "      <td>NaN</td>\n",
              "      <td>NaN</td>\n",
              "      <td>NaN</td>\n",
              "      <td>NaN</td>\n",
              "      <td>Grave</td>\n",
              "    </tr>\n",
              "    <tr>\n",
              "      <th>2</th>\n",
              "      <td>7463-0</td>\n",
              "      <td>Transitar em velocidade superior à máxima perm...</td>\n",
              "      <td>Condutor</td>\n",
              "      <td>CAMINHAO</td>\n",
              "      <td>01/07/2020</td>\n",
              "      <td>00:05</td>\n",
              "      <td>DF-025 (EPDB) KM 04 SENTIDO BALAO DO AEROPORTO...</td>\n",
              "      <td>NaN</td>\n",
              "      <td>NaN</td>\n",
              "      <td>NaN</td>\n",
              "      <td>NaN</td>\n",
              "      <td>NaN</td>\n",
              "      <td>Grave</td>\n",
              "    </tr>\n",
              "    <tr>\n",
              "      <th>3</th>\n",
              "      <td>7455-0</td>\n",
              "      <td>Transitar em velocidade superior à máxima perm...</td>\n",
              "      <td>Condutor</td>\n",
              "      <td>AUTOMOVEL</td>\n",
              "      <td>01/07/2020</td>\n",
              "      <td>00:06</td>\n",
              "      <td>DF-075(EPNB) KM 02 SENTIDO SAMAMBAIA          ...</td>\n",
              "      <td>NaN</td>\n",
              "      <td>NaN</td>\n",
              "      <td>NaN</td>\n",
              "      <td>NaN</td>\n",
              "      <td>NaN</td>\n",
              "      <td>Média</td>\n",
              "    </tr>\n",
              "    <tr>\n",
              "      <th>4</th>\n",
              "      <td>7455-0</td>\n",
              "      <td>Transitar em velocidade superior à máxima perm...</td>\n",
              "      <td>Condutor</td>\n",
              "      <td>UTILITARIO</td>\n",
              "      <td>01/07/2020</td>\n",
              "      <td>00:07</td>\n",
              "      <td>DF-075(EPNB),KM 3,6 SENTIDO DF-003(EPIA)      ...</td>\n",
              "      <td>NaN</td>\n",
              "      <td>NaN</td>\n",
              "      <td>NaN</td>\n",
              "      <td>NaN</td>\n",
              "      <td>NaN</td>\n",
              "      <td>Média</td>\n",
              "    </tr>\n",
              "  </tbody>\n",
              "</table>\n",
              "</div>"
            ],
            "text/plain": [
              "  tipo_infracao  ... grav_tipo\n",
              "0        7455-0  ...     Média\n",
              "1        7463-0  ...     Grave\n",
              "2        7463-0  ...     Grave\n",
              "3        7455-0  ...     Média\n",
              "4        7455-0  ...     Média\n",
              "\n",
              "[5 rows x 13 columns]"
            ]
          },
          "metadata": {
            "tags": []
          },
          "execution_count": 4
        }
      ]
    },
    {
      "cell_type": "code",
      "metadata": {
        "colab": {
          "base_uri": "https://localhost:8080/",
          "height": 297
        },
        "id": "GJbA2v-bZJkV",
        "outputId": "b9f2266d-5cd7-4ad1-9903-f47070f7039b"
      },
      "source": [
        "df.describe()"
      ],
      "execution_count": 5,
      "outputs": [
        {
          "output_type": "execute_result",
          "data": {
            "text/html": [
              "<div>\n",
              "<style scoped>\n",
              "    .dataframe tbody tr th:only-of-type {\n",
              "        vertical-align: middle;\n",
              "    }\n",
              "\n",
              "    .dataframe tbody tr th {\n",
              "        vertical-align: top;\n",
              "    }\n",
              "\n",
              "    .dataframe thead th {\n",
              "        text-align: right;\n",
              "    }\n",
              "</style>\n",
              "<table border=\"1\" class=\"dataframe\">\n",
              "  <thead>\n",
              "    <tr style=\"text-align: right;\">\n",
              "      <th></th>\n",
              "      <th>auinf_local_km</th>\n",
              "    </tr>\n",
              "  </thead>\n",
              "  <tbody>\n",
              "    <tr>\n",
              "      <th>count</th>\n",
              "      <td>3508.000000</td>\n",
              "    </tr>\n",
              "    <tr>\n",
              "      <th>mean</th>\n",
              "      <td>29.354333</td>\n",
              "    </tr>\n",
              "    <tr>\n",
              "      <th>std</th>\n",
              "      <td>43.558542</td>\n",
              "    </tr>\n",
              "    <tr>\n",
              "      <th>min</th>\n",
              "      <td>0.000000</td>\n",
              "    </tr>\n",
              "    <tr>\n",
              "      <th>25%</th>\n",
              "      <td>6.000000</td>\n",
              "    </tr>\n",
              "    <tr>\n",
              "      <th>50%</th>\n",
              "      <td>16.000000</td>\n",
              "    </tr>\n",
              "    <tr>\n",
              "      <th>75%</th>\n",
              "      <td>69.000000</td>\n",
              "    </tr>\n",
              "    <tr>\n",
              "      <th>max</th>\n",
              "      <td>1977.000000</td>\n",
              "    </tr>\n",
              "  </tbody>\n",
              "</table>\n",
              "</div>"
            ],
            "text/plain": [
              "       auinf_local_km\n",
              "count     3508.000000\n",
              "mean        29.354333\n",
              "std         43.558542\n",
              "min          0.000000\n",
              "25%          6.000000\n",
              "50%         16.000000\n",
              "75%         69.000000\n",
              "max       1977.000000"
            ]
          },
          "metadata": {
            "tags": []
          },
          "execution_count": 5
        }
      ]
    },
    {
      "cell_type": "code",
      "metadata": {
        "colab": {
          "base_uri": "https://localhost:8080/"
        },
        "id": "w10T134qcZI8",
        "outputId": "a259f45f-19bc-4fb4-bdec-68b4401602ea"
      },
      "source": [
        "# tamanho do df\n",
        "df.shape"
      ],
      "execution_count": 6,
      "outputs": [
        {
          "output_type": "execute_result",
          "data": {
            "text/plain": [
              "(19500, 13)"
            ]
          },
          "metadata": {
            "tags": []
          },
          "execution_count": 6
        }
      ]
    },
    {
      "cell_type": "code",
      "metadata": {
        "colab": {
          "base_uri": "https://localhost:8080/"
        },
        "id": "y1LObbjMceKV",
        "outputId": "c5463807-1a94-413f-e6fd-536580662121"
      },
      "source": [
        "# colunas do df\n",
        "df.columns"
      ],
      "execution_count": 7,
      "outputs": [
        {
          "output_type": "execute_result",
          "data": {
            "text/plain": [
              "Index(['tipo_infracao', 'descricao', 'tipo_infrator', 'tipo_veiculo',\n",
              "       'cometimento', 'hora_cometimento', 'auinf_local_rodovia',\n",
              "       'auinf_local_km', 'auinf_local_referencia', 'auinf_local_complemento',\n",
              "       'auinf_local_latitude', 'auinf_local_longitude', 'grav_tipo'],\n",
              "      dtype='object')"
            ]
          },
          "metadata": {
            "tags": []
          },
          "execution_count": 7
        }
      ]
    },
    {
      "cell_type": "code",
      "metadata": {
        "colab": {
          "base_uri": "https://localhost:8080/"
        },
        "id": "hBTtBTbOcnFC",
        "outputId": "f33cb50d-55ef-4a8c-9744-1a6397b2f689"
      },
      "source": [
        "# tipos de dados\n",
        "df.dtypes"
      ],
      "execution_count": 8,
      "outputs": [
        {
          "output_type": "execute_result",
          "data": {
            "text/plain": [
              "tipo_infracao               object\n",
              "descricao                   object\n",
              "tipo_infrator               object\n",
              "tipo_veiculo                object\n",
              "cometimento                 object\n",
              "hora_cometimento            object\n",
              "auinf_local_rodovia         object\n",
              "auinf_local_km             float64\n",
              "auinf_local_referencia      object\n",
              "auinf_local_complemento     object\n",
              "auinf_local_latitude        object\n",
              "auinf_local_longitude       object\n",
              "grav_tipo                   object\n",
              "dtype: object"
            ]
          },
          "metadata": {
            "tags": []
          },
          "execution_count": 8
        }
      ]
    },
    {
      "cell_type": "code",
      "metadata": {
        "colab": {
          "base_uri": "https://localhost:8080/"
        },
        "id": "ZGViukulYjS3",
        "outputId": "7d83d8fa-ec39-4d80-c066-3ec90aeedab5"
      },
      "source": [
        "# Qual é o total de infrações por tipo de infração (leve, média, grave, gravíssima)?\n",
        "dfTipoInfracao = df.groupby(\"grav_tipo\")[\"grav_tipo\"].count()\n",
        "dfTipoInfracao.dtypes\n",
        "dfTipoInfracao"
      ],
      "execution_count": 9,
      "outputs": [
        {
          "output_type": "execute_result",
          "data": {
            "text/plain": [
              "grav_tipo\n",
              "Grave          2371\n",
              "Gravíssima     1754\n",
              "Leve           3257\n",
              "Média         12118\n",
              "Name: grav_tipo, dtype: int64"
            ]
          },
          "metadata": {
            "tags": []
          },
          "execution_count": 9
        }
      ]
    },
    {
      "cell_type": "code",
      "metadata": {
        "colab": {
          "base_uri": "https://localhost:8080/",
          "height": 343
        },
        "id": "LFayc9f1brOh",
        "outputId": "597deb48-3476-4bae-a168-14c6f3cadece"
      },
      "source": [
        "dfTipoInfracao.sort_values().plot(kind='bar')"
      ],
      "execution_count": 10,
      "outputs": [
        {
          "output_type": "execute_result",
          "data": {
            "text/plain": [
              "<matplotlib.axes._subplots.AxesSubplot at 0x7efc3297ef90>"
            ]
          },
          "metadata": {
            "tags": []
          },
          "execution_count": 10
        },
        {
          "output_type": "display_data",
          "data": {
            "image/png": "[encoded data removed]",
            "text/plain": [
              "<Figure size 432x288 with 1 Axes>"
            ]
          },
          "metadata": {
            "tags": [],
            "needs_background": "light"
          }
        }
      ]
    },
    {
      "cell_type": "code",
      "metadata": {
        "colab": {
          "base_uri": "https://localhost:8080/"
        },
        "id": "DS0SuFRxbRKJ",
        "outputId": "a4c55a84-faa0-465c-e103-cb03d6355611"
      },
      "source": [
        "# Total de infracoes por dia\n",
        "dfInfracaoPorDia = df.groupby(\"cometimento\")[\"cometimento\"].count()\n",
        "dfInfracaoPorDia"
      ],
      "execution_count": 11,
      "outputs": [
        {
          "output_type": "execute_result",
          "data": {
            "text/plain": [
              "cometimento\n",
              "01/07/2020    2807\n",
              "02/07/2020    2849\n",
              "03/07/2020    2943\n",
              "04/07/2020    2111\n",
              "05/07/2020    1812\n",
              "06/07/2020    2376\n",
              "07/07/2020    2601\n",
              "08/07/2020    2001\n",
              "Name: cometimento, dtype: int64"
            ]
          },
          "metadata": {
            "tags": []
          },
          "execution_count": 11
        }
      ]
    },
    {
      "cell_type": "code",
      "metadata": {
        "colab": {
          "base_uri": "https://localhost:8080/"
        },
        "id": "4cZowzO6bW5v",
        "outputId": "6bbb211d-cfa2-40e0-cfdc-25486f292f8b"
      },
      "source": [
        "# Base possui valores faltantes\n",
        "df.isnull().sum()"
      ],
      "execution_count": 12,
      "outputs": [
        {
          "output_type": "execute_result",
          "data": {
            "text/plain": [
              "tipo_infracao                  0\n",
              "descricao                      0\n",
              "tipo_infrator                  0\n",
              "tipo_veiculo                   0\n",
              "cometimento                    0\n",
              "hora_cometimento               0\n",
              "auinf_local_rodovia            6\n",
              "auinf_local_km             15992\n",
              "auinf_local_referencia     16098\n",
              "auinf_local_complemento    18810\n",
              "auinf_local_latitude       16237\n",
              "auinf_local_longitude      16237\n",
              "grav_tipo                      0\n",
              "dtype: int64"
            ]
          },
          "metadata": {
            "tags": []
          },
          "execution_count": 12
        }
      ]
    },
    {
      "cell_type": "code",
      "metadata": {
        "id": "93dlfxTLbegS"
      },
      "source": [
        "# excluir dasos faltantes\n",
        "\n",
        "df.dropna(subset=[\"tipo_veiculo\"], inplace=True)\n",
        "df.dropna(subset=[\"auinf_local_rodovia\"], inplace=True)\n",
        "df.dropna(subset=[\"auinf_local_km\"], inplace=True)\n",
        "df.dropna(subset=[\"auinf_local_referencia\"], inplace=True)\n",
        "df.dropna(subset=[\"auinf_local_complemento\"], inplace=True)\n",
        "df.dropna(subset=[\"auinf_local_latitude\"], inplace=True)\n",
        "df.dropna(subset=[\"auinf_local_longitude\"], inplace=True)"
      ],
      "execution_count": 13,
      "outputs": []
    },
    {
      "cell_type": "code",
      "metadata": {
        "id": "PGI47p88fAfd",
        "colab": {
          "base_uri": "https://localhost:8080/"
        },
        "outputId": "7f35f757-8a72-40e8-b632-7bce233aa05e"
      },
      "source": [
        "df.isnull().sum()"
      ],
      "execution_count": 14,
      "outputs": [
        {
          "output_type": "execute_result",
          "data": {
            "text/plain": [
              "tipo_infracao              0\n",
              "descricao                  0\n",
              "tipo_infrator              0\n",
              "tipo_veiculo               0\n",
              "cometimento                0\n",
              "hora_cometimento           0\n",
              "auinf_local_rodovia        0\n",
              "auinf_local_km             0\n",
              "auinf_local_referencia     0\n",
              "auinf_local_complemento    0\n",
              "auinf_local_latitude       0\n",
              "auinf_local_longitude      0\n",
              "grav_tipo                  0\n",
              "dtype: int64"
            ]
          },
          "metadata": {
            "tags": []
          },
          "execution_count": 14
        }
      ]
    },
    {
      "cell_type": "markdown",
      "metadata": {
        "id": "-BLatKisp0aK"
      },
      "source": [
        "# Projeto 2\n",
        "\n",
        "## Elabore visualizações de dados sobre as infrações de trânsito no mês de julho de 2020. As visualizações podem ser, por exemplo:\n",
        "\n",
        "* o total de infrações por tipo, com o eixo x representando o tipo e o eixo y o total;\n",
        "* o total de infrações por tipo de infrator, como condutor e proprietário.\n",
        "\n",
        "Suba o código criado para resolução da atividade na conta do Github e compartilhe o link do projeto no campo ao lado para que outros desenvolvedores possam analisá-lo."
      ]
    },
    {
      "cell_type": "code",
      "metadata": {
        "id": "AkqQg1h1rter"
      },
      "source": [
        "# import do matplotlib para fazer os graficos\n",
        "import matplotlib.pyplot as plt"
      ],
      "execution_count": 15,
      "outputs": []
    },
    {
      "cell_type": "code",
      "metadata": {
        "colab": {
          "base_uri": "https://localhost:8080/",
          "height": 296
        },
        "id": "jrIxjYerqFbm",
        "outputId": "deea4ee5-18be-4a9e-eaa1-9d11bda68e6b"
      },
      "source": [
        "# o total de infrações por tipo, com o eixo x representando o tipo e o eixo y o total;\n",
        "dfTipoInfracao.sort_values().plot(kind='barh', color='green')\n",
        "plt.xlabel(\"Tipo Infracao\")\n",
        "plt.ylabel(\"Total Infracoes\")"
      ],
      "execution_count": 16,
      "outputs": [
        {
          "output_type": "execute_result",
          "data": {
            "text/plain": [
              "Text(0, 0.5, 'Total Infracoes')"
            ]
          },
          "metadata": {
            "tags": []
          },
          "execution_count": 16
        },
        {
          "output_type": "display_data",
          "data": {
            "image/png": "[encoded data removed]",
            "text/plain": [
              "<Figure size 432x288 with 1 Axes>"
            ]
          },
          "metadata": {
            "tags": [],
            "needs_background": "light"
          }
        }
      ]
    },
    {
      "cell_type": "code",
      "metadata": {
        "colab": {
          "base_uri": "https://localhost:8080/",
          "height": 312
        },
        "id": "ejFcjlslsCQJ",
        "outputId": "0fcbbc87-9f46-4e35-8a00-00a901536711"
      },
      "source": [
        "# o total de infrações por tipo de infrator, como condutor e proprietário.\n",
        "dfPorTopoInfrator =  df.groupby(\"tipo_infrator\")[\"tipo_infrator\"].value_counts(ascending=False).plot.barh(title = \"total de infrações por tipo de infrator\", color=\"purple\")\n",
        "plt.xlabel(\"Quantidade\")\n",
        "plt.ylabel(\"Tipo de Infrator\")"
      ],
      "execution_count": 17,
      "outputs": [
        {
          "output_type": "execute_result",
          "data": {
            "text/plain": [
              "Text(0, 0.5, 'Tipo de Infrator')"
            ]
          },
          "metadata": {
            "tags": []
          },
          "execution_count": 17
        },
        {
          "output_type": "display_data",
          "data": {
            "image/png": "[encoded data removed]",
            "text/plain": [
              "<Figure size 432x288 with 1 Axes>"
            ]
          },
          "metadata": {
            "tags": [],
            "needs_background": "light"
          }
        }
      ]
    },
    {
      "cell_type": "markdown",
      "metadata": {
        "id": "FFxkw29Ws3Q3"
      },
      "source": [
        "# Projeto 3\n",
        "\n",
        "## Instruções do projeto\n",
        "Utilizando a biblioteca Seaborn, crie visualizações de dados sobre as infrações de trânsito no mês de julho de 2020.\n",
        "\n",
        "Suba o código criado para resolução da atividade na conta do Github e compartilhe o link do projeto no campo ao lado para que outros desenvolvedores possam analisá-lo."
      ]
    },
    {
      "cell_type": "code",
      "metadata": {
        "colab": {
          "base_uri": "https://localhost:8080/",
          "height": 932
        },
        "id": "XTZSw4fHtCUK",
        "outputId": "ce734dc6-6647-4d19-f20f-8c7db9730dcb"
      },
      "source": [
        "df"
      ],
      "execution_count": 33,
      "outputs": [
        {
          "output_type": "execute_result",
          "data": {
            "text/html": [
              "<div>\n",
              "<style scoped>\n",
              "    .dataframe tbody tr th:only-of-type {\n",
              "        vertical-align: middle;\n",
              "    }\n",
              "\n",
              "    .dataframe tbody tr th {\n",
              "        vertical-align: top;\n",
              "    }\n",
              "\n",
              "    .dataframe thead th {\n",
              "        text-align: right;\n",
              "    }\n",
              "</style>\n",
              "<table border=\"1\" class=\"dataframe\">\n",
              "  <thead>\n",
              "    <tr style=\"text-align: right;\">\n",
              "      <th></th>\n",
              "      <th>tipo_infracao</th>\n",
              "      <th>descricao</th>\n",
              "      <th>tipo_infrator</th>\n",
              "      <th>tipo_veiculo</th>\n",
              "      <th>cometimento</th>\n",
              "      <th>hora_cometimento</th>\n",
              "      <th>auinf_local_rodovia</th>\n",
              "      <th>auinf_local_km</th>\n",
              "      <th>auinf_local_referencia</th>\n",
              "      <th>auinf_local_complemento</th>\n",
              "      <th>auinf_local_latitude</th>\n",
              "      <th>auinf_local_longitude</th>\n",
              "      <th>grav_tipo</th>\n",
              "    </tr>\n",
              "  </thead>\n",
              "  <tbody>\n",
              "    <tr>\n",
              "      <th>7</th>\n",
              "      <td>6769-0</td>\n",
              "      <td>Conduzir veíc c/ defeito no sist de iluminação...</td>\n",
              "      <td>Proprietário</td>\n",
              "      <td>Caminhão Trator</td>\n",
              "      <td>01/07/2020</td>\n",
              "      <td>00:12</td>\n",
              "      <td>DF 003</td>\n",
              "      <td>0.0</td>\n",
              "      <td>Sentido Crescente</td>\n",
              "      <td>SC</td>\n",
              "      <td>-1.568.937.859</td>\n",
              "      <td>-4.784.911.996</td>\n",
              "      <td>Média</td>\n",
              "    </tr>\n",
              "    <tr>\n",
              "      <th>19</th>\n",
              "      <td>5010-0</td>\n",
              "      <td>Dirigir veículo sem possuir CNH/PPD/ACC</td>\n",
              "      <td>Condutor</td>\n",
              "      <td>Automóvel</td>\n",
              "      <td>01/07/2020</td>\n",
              "      <td>00:36</td>\n",
              "      <td>DF 130</td>\n",
              "      <td>1.0</td>\n",
              "      <td>Sentido Crescente</td>\n",
              "      <td>Sentido Crescente</td>\n",
              "      <td>-15.528.383.333.333.300</td>\n",
              "      <td>-47.622.524.999.999.900</td>\n",
              "      <td>Gravíssima</td>\n",
              "    </tr>\n",
              "    <tr>\n",
              "      <th>229</th>\n",
              "      <td>5681-0</td>\n",
              "      <td>Transitar na faixa/pista da direita regul circ...</td>\n",
              "      <td>Condutor</td>\n",
              "      <td>Automóvel</td>\n",
              "      <td>01/07/2020</td>\n",
              "      <td>06:52</td>\n",
              "      <td>DF 001</td>\n",
              "      <td>69.0</td>\n",
              "      <td>Sentido Crescente</td>\n",
              "      <td>km 69</td>\n",
              "      <td>-1.587.652.119</td>\n",
              "      <td>-48.048.626</td>\n",
              "      <td>Leve</td>\n",
              "    </tr>\n",
              "    <tr>\n",
              "      <th>231</th>\n",
              "      <td>5681-0</td>\n",
              "      <td>Transitar na faixa/pista da direita regul circ...</td>\n",
              "      <td>Condutor</td>\n",
              "      <td>Automóvel</td>\n",
              "      <td>01/07/2020</td>\n",
              "      <td>06:53</td>\n",
              "      <td>DF 001</td>\n",
              "      <td>69.0</td>\n",
              "      <td>Sentido Crescente</td>\n",
              "      <td>km 69</td>\n",
              "      <td>-1.587.652.036</td>\n",
              "      <td>-4.804.872.328</td>\n",
              "      <td>Leve</td>\n",
              "    </tr>\n",
              "    <tr>\n",
              "      <th>235</th>\n",
              "      <td>5681-0</td>\n",
              "      <td>Transitar na faixa/pista da direita regul circ...</td>\n",
              "      <td>Condutor</td>\n",
              "      <td>Automóvel</td>\n",
              "      <td>01/07/2020</td>\n",
              "      <td>06:54</td>\n",
              "      <td>DF 001</td>\n",
              "      <td>69.0</td>\n",
              "      <td>Sentido Crescente</td>\n",
              "      <td>km 69</td>\n",
              "      <td>-1.587.646.471</td>\n",
              "      <td>-4.804.880.437</td>\n",
              "      <td>Leve</td>\n",
              "    </tr>\n",
              "    <tr>\n",
              "      <th>...</th>\n",
              "      <td>...</td>\n",
              "      <td>...</td>\n",
              "      <td>...</td>\n",
              "      <td>...</td>\n",
              "      <td>...</td>\n",
              "      <td>...</td>\n",
              "      <td>...</td>\n",
              "      <td>...</td>\n",
              "      <td>...</td>\n",
              "      <td>...</td>\n",
              "      <td>...</td>\n",
              "      <td>...</td>\n",
              "      <td>...</td>\n",
              "    </tr>\n",
              "    <tr>\n",
              "      <th>19395</th>\n",
              "      <td>5185-2</td>\n",
              "      <td>Deixar o passageiro de usar o cinto segurança</td>\n",
              "      <td>Condutor</td>\n",
              "      <td>Automóvel</td>\n",
              "      <td>08/07/2020</td>\n",
              "      <td>17:19</td>\n",
              "      <td>DF 003</td>\n",
              "      <td>14.0</td>\n",
              "      <td>Sentido Crescente</td>\n",
              "      <td>KM</td>\n",
              "      <td>-1.578.606.116</td>\n",
              "      <td>-4.794.169.066</td>\n",
              "      <td>Grave</td>\n",
              "    </tr>\n",
              "    <tr>\n",
              "      <th>19397</th>\n",
              "      <td>5185-2</td>\n",
              "      <td>Deixar o passageiro de usar o cinto segurança</td>\n",
              "      <td>Condutor</td>\n",
              "      <td>Automóvel</td>\n",
              "      <td>08/07/2020</td>\n",
              "      <td>17:20</td>\n",
              "      <td>DF 003</td>\n",
              "      <td>14.0</td>\n",
              "      <td>Sentido Crescente</td>\n",
              "      <td>KM</td>\n",
              "      <td>-1.578.605.336</td>\n",
              "      <td>-4.794.168.838</td>\n",
              "      <td>Grave</td>\n",
              "    </tr>\n",
              "    <tr>\n",
              "      <th>19399</th>\n",
              "      <td>5185-1</td>\n",
              "      <td>Deixar o condutor de usar o cinto segurança</td>\n",
              "      <td>Condutor</td>\n",
              "      <td>Automóvel</td>\n",
              "      <td>08/07/2020</td>\n",
              "      <td>17:20</td>\n",
              "      <td>DF 003</td>\n",
              "      <td>14.0</td>\n",
              "      <td>Sentido Crescente</td>\n",
              "      <td>KM</td>\n",
              "      <td>-1.578.593.576</td>\n",
              "      <td>-4.794.181.937</td>\n",
              "      <td>Grave</td>\n",
              "    </tr>\n",
              "    <tr>\n",
              "      <th>19409</th>\n",
              "      <td>5185-2</td>\n",
              "      <td>Deixar o passageiro de usar o cinto segurança</td>\n",
              "      <td>Condutor</td>\n",
              "      <td>Automóvel</td>\n",
              "      <td>08/07/2020</td>\n",
              "      <td>17:25</td>\n",
              "      <td>DF 003</td>\n",
              "      <td>14.0</td>\n",
              "      <td>Sentido Crescente</td>\n",
              "      <td>KM</td>\n",
              "      <td>-1.578.601.452</td>\n",
              "      <td>-4.794.172.188</td>\n",
              "      <td>Grave</td>\n",
              "    </tr>\n",
              "    <tr>\n",
              "      <th>19411</th>\n",
              "      <td>5185-2</td>\n",
              "      <td>Deixar o passageiro de usar o cinto segurança</td>\n",
              "      <td>Condutor</td>\n",
              "      <td>Automóvel</td>\n",
              "      <td>08/07/2020</td>\n",
              "      <td>17:25</td>\n",
              "      <td>DF 003</td>\n",
              "      <td>14.0</td>\n",
              "      <td>Sentido Crescente</td>\n",
              "      <td>KM</td>\n",
              "      <td>-1.578.601.172</td>\n",
              "      <td>-479.417.662</td>\n",
              "      <td>Grave</td>\n",
              "    </tr>\n",
              "  </tbody>\n",
              "</table>\n",
              "<p>655 rows × 13 columns</p>\n",
              "</div>"
            ],
            "text/plain": [
              "      tipo_infracao  ...   grav_tipo\n",
              "7            6769-0  ...       Média\n",
              "19           5010-0  ...  Gravíssima\n",
              "229          5681-0  ...        Leve\n",
              "231          5681-0  ...        Leve\n",
              "235          5681-0  ...        Leve\n",
              "...             ...  ...         ...\n",
              "19395        5185-2  ...       Grave\n",
              "19397        5185-2  ...       Grave\n",
              "19399        5185-1  ...       Grave\n",
              "19409        5185-2  ...       Grave\n",
              "19411        5185-2  ...       Grave\n",
              "\n",
              "[655 rows x 13 columns]"
            ]
          },
          "metadata": {
            "tags": []
          },
          "execution_count": 33
        }
      ]
    },
    {
      "cell_type": "code",
      "metadata": {
        "id": "lIJIW3E9t-MD"
      },
      "source": [
        "import seaborn as sns"
      ],
      "execution_count": 22,
      "outputs": []
    },
    {
      "cell_type": "code",
      "metadata": {
        "colab": {
          "base_uri": "https://localhost:8080/",
          "height": 400
        },
        "id": "IGUceN4-uFzI",
        "outputId": "f153aa94-5284-45d5-a3b3-d3e44ba23c57"
      },
      "source": [
        "sns.relplot(x=\"cometimento\", y=\"tipo_veiculo\", hue=\"tipo_veiculo\", data=df)"
      ],
      "execution_count": 29,
      "outputs": [
        {
          "output_type": "execute_result",
          "data": {
            "text/plain": [
              "<seaborn.axisgrid.FacetGrid at 0x7efc2320ee90>"
            ]
          },
          "metadata": {
            "tags": []
          },
          "execution_count": 29
        },
        {
          "output_type": "display_data",
          "data": {
            "image/png": "[encoded data removed]",
            "text/plain": [
              "<Figure size 478.25x360 with 1 Axes>"
            ]
          },
          "metadata": {
            "tags": [],
            "needs_background": "light"
          }
        }
      ]
    },
    {
      "cell_type": "code",
      "metadata": {
        "colab": {
          "base_uri": "https://localhost:8080/",
          "height": 401
        },
        "id": "aFnz-_5vurkm",
        "outputId": "0397a594-5d51-48db-9635-e7384795b66b"
      },
      "source": [
        "sns.catplot(x='grav_tipo', kind='count',palette='Set3', data = df)"
      ],
      "execution_count": 35,
      "outputs": [
        {
          "output_type": "execute_result",
          "data": {
            "text/plain": [
              "<seaborn.axisgrid.FacetGrid at 0x7efc1a7e8150>"
            ]
          },
          "metadata": {
            "tags": []
          },
          "execution_count": 35
        },
        {
          "output_type": "display_data",
          "data": {
            "image/png": "[encoded data removed]",
            "text/plain": [
              "<Figure size 360x360 with 1 Axes>"
            ]
          },
          "metadata": {
            "tags": [],
            "needs_background": "light"
          }
        }
      ]
    },
    {
      "cell_type": "code",
      "metadata": {
        "id": "y6WfOASFweKb"
      },
      "source": [
        "import plotly.express as px"
      ],
      "execution_count": 37,
      "outputs": []
    },
    {
      "cell_type": "code",
      "metadata": {
        "colab": {
          "base_uri": "https://localhost:8080/",
          "height": 542
        },
        "id": "qGlA3tO90WwP",
        "outputId": "f99277fa-65ea-4b34-d846-cb25aeeed993"
      },
      "source": [
        "infracao = px.histogram(df, x='grav_tipo')\n",
        "infracao.show()"
      ],
      "execution_count": 43,
      "outputs": [
        {
          "output_type": "display_data",
          "data": {
            "text/html": [
              "<html>\n",
              "<head><meta charset=\"utf-8\" /></head>\n",
              "<body>\n",
              "    <div>\n",
              "            <script src=\"https://cdnjs.cloudflare.com/ajax/libs/mathjax/2.7.5/MathJax.js?config=TeX-AMS-MML_SVG\"></script><script type=\"text/javascript\">if (window.MathJax) {MathJax.Hub.Config({SVG: {font: \"STIX-Web\"}});}</script>\n",
              "                <script type=\"text/javascript\">window.PlotlyConfig = {MathJaxConfig: 'local'};</script>\n",
              "        <script src=\"https://cdn.plot.ly/plotly-latest.min.js\"></script>    \n",
              "            <div id=\"69bfc9f0-9812-4ccc-8f98-70ff7a3bd479\" class=\"plotly-graph-div\" style=\"height:525px; width:100%;\"></div>\n",
              "            <script type=\"text/javascript\">\n",
              "                \n",
              "                    window.PLOTLYENV=window.PLOTLYENV || {};\n",
              "                    \n",
              "                if (document.getElementById(\"69bfc9f0-9812-4ccc-8f98-70ff7a3bd479\")) {\n",
              "                    Plotly.newPlot(\n",
              "                        '69bfc9f0-9812-4ccc-8f98-70ff7a3bd479',\n",
              "                        [{\"alignmentgroup\": \"True\", \"bingroup\": \"x\", \"hoverlabel\": {\"namelength\": 0}, \"hovertemplate\": \"grav_tipo=%{x}<br>count=%{y}\", \"legendgroup\": \"\", \"marker\": {\"color\": \"#636efa\"}, \"name\": \"\", \"offsetgroup\": \"\", \"orientation\": \"v\", \"showlegend\": false, \"type\": \"histogram\", \"x\": [\"M\\u00e9dia\", \"Grav\\u00edssima\", \"Leve\", \"Leve\", \"Leve\", \"Leve\", \"Leve\", \"Leve\", \"Leve\", \"Leve\", \"Leve\", \"Leve\", \"Leve\", \"Leve\", \"Leve\", \"Leve\", \"Leve\", \"Leve\", \"Leve\", \"Leve\", \"Leve\", \"Grave\", \"Leve\", \"Leve\", \"Leve\", \"Leve\", \"Leve\", \"Leve\", \"M\\u00e9dia\", \"M\\u00e9dia\", \"M\\u00e9dia\", \"Grave\", \"M\\u00e9dia\", \"M\\u00e9dia\", \"Grave\", \"Grave\", \"M\\u00e9dia\", \"M\\u00e9dia\", \"M\\u00e9dia\", \"M\\u00e9dia\", \"M\\u00e9dia\", \"M\\u00e9dia\", \"M\\u00e9dia\", \"M\\u00e9dia\", \"Grav\\u00edssima\", \"M\\u00e9dia\", \"M\\u00e9dia\", \"M\\u00e9dia\", \"M\\u00e9dia\", \"M\\u00e9dia\", \"Grave\", \"Leve\", \"M\\u00e9dia\", \"M\\u00e9dia\", \"M\\u00e9dia\", \"M\\u00e9dia\", \"Grave\", \"Grave\", \"Leve\", \"M\\u00e9dia\", \"Grav\\u00edssima\", \"M\\u00e9dia\", \"Grav\\u00edssima\", \"Grave\", \"Grave\", \"M\\u00e9dia\", \"M\\u00e9dia\", \"Grave\", \"M\\u00e9dia\", \"M\\u00e9dia\", \"Grave\", \"M\\u00e9dia\", \"Grav\\u00edssima\", \"Grav\\u00edssima\", \"Grav\\u00edssima\", \"Grav\\u00edssima\", \"Grav\\u00edssima\", \"Grav\\u00edssima\", \"Grav\\u00edssima\", \"Grav\\u00edssima\", \"Grav\\u00edssima\", \"Grav\\u00edssima\", \"Grav\\u00edssima\", \"Grav\\u00edssima\", \"Grav\\u00edssima\", \"Grav\\u00edssima\", \"Grav\\u00edssima\", \"Grav\\u00edssima\", \"Grave\", \"Grav\\u00edssima\", \"Grave\", \"Grav\\u00edssima\", \"M\\u00e9dia\", \"M\\u00e9dia\", \"M\\u00e9dia\", \"M\\u00e9dia\", \"M\\u00e9dia\", \"M\\u00e9dia\", \"Grav\\u00edssima\", \"Grave\", \"Grave\", \"Grave\", \"Grave\", \"Grave\", \"Grave\", \"Grave\", \"Grave\", \"Grave\", \"Grave\", \"Grave\", \"Grave\", \"Grave\", \"Grave\", \"Grave\", \"Grave\", \"Grave\", \"Grave\", \"Grave\", \"Grave\", \"Grave\", \"Leve\", \"Grave\", \"Grave\", \"Grave\", \"Grave\", \"M\\u00e9dia\", \"M\\u00e9dia\", \"Grav\\u00edssima\", \"M\\u00e9dia\", \"M\\u00e9dia\", \"M\\u00e9dia\", \"Grave\", \"M\\u00e9dia\", \"Grave\", \"Leve\", \"M\\u00e9dia\", \"Grave\", \"M\\u00e9dia\", \"M\\u00e9dia\", \"M\\u00e9dia\", \"M\\u00e9dia\", \"Grav\\u00edssima\", \"Grave\", \"Leve\", \"Grav\\u00edssima\", \"Grav\\u00edssima\", \"Leve\", \"M\\u00e9dia\", \"Grave\", \"M\\u00e9dia\", \"Grave\", \"Grav\\u00edssima\", \"Grav\\u00edssima\", \"M\\u00e9dia\", \"M\\u00e9dia\", \"M\\u00e9dia\", \"M\\u00e9dia\", \"M\\u00e9dia\", \"M\\u00e9dia\", \"M\\u00e9dia\", \"M\\u00e9dia\", \"M\\u00e9dia\", \"M\\u00e9dia\", \"M\\u00e9dia\", \"M\\u00e9dia\", \"Grav\\u00edssima\", \"Grav\\u00edssima\", \"Grav\\u00edssima\", \"M\\u00e9dia\", \"Grav\\u00edssima\", \"Grav\\u00edssima\", \"Leve\", \"Grav\\u00edssima\", \"Grav\\u00edssima\", \"Grav\\u00edssima\", \"Grav\\u00edssima\", \"Grav\\u00edssima\", \"M\\u00e9dia\", \"Grav\\u00edssima\", \"M\\u00e9dia\", \"Grav\\u00edssima\", \"Grave\", \"Grave\", \"Grave\", \"Grave\", \"Grave\", \"Grave\", \"M\\u00e9dia\", \"M\\u00e9dia\", \"M\\u00e9dia\", \"M\\u00e9dia\", \"Grave\", \"Grav\\u00edssima\", \"M\\u00e9dia\", \"Grav\\u00edssima\", \"Grav\\u00edssima\", \"Leve\", \"M\\u00e9dia\", \"M\\u00e9dia\", \"M\\u00e9dia\", \"Grave\", \"Grav\\u00edssima\", \"M\\u00e9dia\", \"M\\u00e9dia\", \"Grav\\u00edssima\", \"Grav\\u00edssima\", \"M\\u00e9dia\", \"M\\u00e9dia\", \"M\\u00e9dia\", \"M\\u00e9dia\", \"M\\u00e9dia\", \"M\\u00e9dia\", \"M\\u00e9dia\", \"M\\u00e9dia\", \"M\\u00e9dia\", \"M\\u00e9dia\", \"M\\u00e9dia\", \"M\\u00e9dia\", \"Grav\\u00edssima\", \"M\\u00e9dia\", \"Grav\\u00edssima\", \"M\\u00e9dia\", \"M\\u00e9dia\", \"M\\u00e9dia\", \"M\\u00e9dia\", \"Grav\\u00edssima\", \"M\\u00e9dia\", \"M\\u00e9dia\", \"M\\u00e9dia\", \"Grav\\u00edssima\", \"M\\u00e9dia\", \"M\\u00e9dia\", \"M\\u00e9dia\", \"M\\u00e9dia\", \"Grav\\u00edssima\", \"M\\u00e9dia\", \"Grave\", \"M\\u00e9dia\", \"Grave\", \"M\\u00e9dia\", \"M\\u00e9dia\", \"M\\u00e9dia\", \"Grav\\u00edssima\", \"M\\u00e9dia\", \"M\\u00e9dia\", \"M\\u00e9dia\", \"Grav\\u00edssima\", \"Grav\\u00edssima\", \"M\\u00e9dia\", \"Grav\\u00edssima\", \"Grav\\u00edssima\", \"M\\u00e9dia\", \"M\\u00e9dia\", \"Grav\\u00edssima\", \"Grav\\u00edssima\", \"Grav\\u00edssima\", \"Grav\\u00edssima\", \"Grav\\u00edssima\", \"Grav\\u00edssima\", \"Grave\", \"Grav\\u00edssima\", \"Grav\\u00edssima\", \"Grav\\u00edssima\", \"Grav\\u00edssima\", \"Grav\\u00edssima\", \"M\\u00e9dia\", \"Grav\\u00edssima\", \"Grav\\u00edssima\", \"Grave\", \"Grav\\u00edssima\", \"Grave\", \"Grave\", \"Leve\", \"Grav\\u00edssima\", \"Leve\", \"Grave\", \"Leve\", \"Grave\", \"Leve\", \"M\\u00e9dia\", \"Grave\", \"Grave\", \"Grave\", \"Grave\", \"Grave\", \"Grav\\u00edssima\", \"Grav\\u00edssima\", \"Grav\\u00edssima\", \"M\\u00e9dia\", \"Grav\\u00edssima\", \"Grav\\u00edssima\", \"Grave\", \"Grav\\u00edssima\", \"Grav\\u00edssima\", \"Grave\", \"Grav\\u00edssima\", \"M\\u00e9dia\", \"Grave\", \"Grav\\u00edssima\", \"Grav\\u00edssima\", \"Grave\", \"M\\u00e9dia\", \"Grav\\u00edssima\", \"Grav\\u00edssima\", \"Grav\\u00edssima\", \"Grav\\u00edssima\", \"Grav\\u00edssima\", \"Grav\\u00edssima\", \"Grav\\u00edssima\", \"Grave\", \"Leve\", \"Grave\", \"M\\u00e9dia\", \"Grave\", \"Grave\", \"M\\u00e9dia\", \"Grave\", \"M\\u00e9dia\", \"M\\u00e9dia\", \"Grav\\u00edssima\", \"Grav\\u00edssima\", \"M\\u00e9dia\", \"Leve\", \"Leve\", \"Leve\", \"Leve\", \"Leve\", \"Leve\", \"Leve\", \"Leve\", \"Leve\", \"Leve\", \"Leve\", \"Leve\", \"Leve\", \"Leve\", \"M\\u00e9dia\", \"Leve\", \"Leve\", \"M\\u00e9dia\", \"Leve\", \"M\\u00e9dia\", \"Leve\", \"Leve\", \"Leve\", \"M\\u00e9dia\", \"Leve\", \"M\\u00e9dia\", \"Leve\", \"Leve\", \"M\\u00e9dia\", \"Leve\", \"Leve\", \"Leve\", \"M\\u00e9dia\", \"Leve\", \"M\\u00e9dia\", \"Leve\", \"Leve\", \"Leve\", \"Leve\", \"Leve\", \"M\\u00e9dia\", \"M\\u00e9dia\", \"Grave\", \"Grave\", \"Grave\", \"Grave\", \"Grave\", \"Grave\", \"Grave\", \"Grave\", \"Grave\", \"Grave\", \"Grave\", \"Grave\", \"Grave\", \"Grave\", \"Grave\", \"Grave\", \"Grave\", \"Grave\", \"Grave\", \"M\\u00e9dia\", \"Grave\", \"Grave\", \"Grave\", \"Grave\", \"M\\u00e9dia\", \"M\\u00e9dia\", \"M\\u00e9dia\", \"M\\u00e9dia\", \"M\\u00e9dia\", \"M\\u00e9dia\", \"Grave\", \"Grav\\u00edssima\", \"Grave\", \"Grave\", \"Grav\\u00edssima\", \"Grav\\u00edssima\", \"Grav\\u00edssima\", \"Grave\", \"Grave\", \"Grav\\u00edssima\", \"Grav\\u00edssima\", \"Grav\\u00edssima\", \"Grav\\u00edssima\", \"Grave\", \"Grav\\u00edssima\", \"Grav\\u00edssima\", \"Grav\\u00edssima\", \"Grave\", \"Grave\", \"Grav\\u00edssima\", \"Grav\\u00edssima\", \"Grave\", \"Grave\", \"Grave\", \"Grave\", \"Grave\", \"Grav\\u00edssima\", \"Grave\", \"Grav\\u00edssima\", \"Grav\\u00edssima\", \"Grav\\u00edssima\", \"Grave\", \"Grave\", \"Grave\", \"Grave\", \"Grave\", \"Grav\\u00edssima\", \"Grave\", \"Grav\\u00edssima\", \"Grave\", \"Grave\", \"Grave\", \"Grave\", \"Grav\\u00edssima\", \"Grav\\u00edssima\", \"Grave\", \"Grave\", \"Grave\", \"Grave\", \"Grav\\u00edssima\", \"Grave\", \"Grav\\u00edssima\", \"Grave\", \"Grav\\u00edssima\", \"Grave\", \"Grav\\u00edssima\", \"Grav\\u00edssima\", \"M\\u00e9dia\", \"M\\u00e9dia\", \"M\\u00e9dia\", \"M\\u00e9dia\", \"M\\u00e9dia\", \"Grave\", \"Grav\\u00edssima\", \"Grav\\u00edssima\", \"Grav\\u00edssima\", \"Grav\\u00edssima\", \"Grav\\u00edssima\", \"Grav\\u00edssima\", \"Grav\\u00edssima\", \"Grav\\u00edssima\", \"Grav\\u00edssima\", \"Grav\\u00edssima\", \"Grav\\u00edssima\", \"Grav\\u00edssima\", \"Grave\", \"Grav\\u00edssima\", \"M\\u00e9dia\", \"Grav\\u00edssima\", \"Grav\\u00edssima\", \"M\\u00e9dia\", \"M\\u00e9dia\", \"Grav\\u00edssima\", \"Grav\\u00edssima\", \"Grave\", \"Grav\\u00edssima\", \"Grave\", \"Grave\", \"Grave\", \"Grav\\u00edssima\", \"Grav\\u00edssima\", \"Grav\\u00edssima\", \"Grav\\u00edssima\", \"Grav\\u00edssima\", \"Grav\\u00edssima\", \"Grav\\u00edssima\", \"M\\u00e9dia\", \"M\\u00e9dia\", \"M\\u00e9dia\", \"Grave\", \"M\\u00e9dia\", \"Grav\\u00edssima\", \"M\\u00e9dia\", \"M\\u00e9dia\", \"M\\u00e9dia\", \"Grav\\u00edssima\", \"M\\u00e9dia\", \"M\\u00e9dia\", \"Grav\\u00edssima\", \"Grav\\u00edssima\", \"Grav\\u00edssima\", \"Grave\", \"Leve\", \"Leve\", \"Leve\", \"Leve\", \"Leve\", \"Leve\", \"Leve\", \"Leve\", \"Leve\", \"Leve\", \"Leve\", \"Leve\", \"Leve\", \"Leve\", \"Leve\", \"Leve\", \"Leve\", \"Leve\", \"Leve\", \"Leve\", \"Leve\", \"Leve\", \"Leve\", \"Leve\", \"Leve\", \"Leve\", \"Leve\", \"Leve\", \"Grave\", \"Leve\", \"Grave\", \"Leve\", \"Grave\", \"Grav\\u00edssima\", \"M\\u00e9dia\", \"Grave\", \"Grave\", \"M\\u00e9dia\", \"Grave\", \"Grav\\u00edssima\", \"Grav\\u00edssima\", \"Grav\\u00edssima\", \"Grav\\u00edssima\", \"Grav\\u00edssima\", \"M\\u00e9dia\", \"Grav\\u00edssima\", \"Grav\\u00edssima\", \"Grav\\u00edssima\", \"Grave\", \"Grav\\u00edssima\", \"Leve\", \"Grav\\u00edssima\", \"Grav\\u00edssima\", \"Grav\\u00edssima\", \"M\\u00e9dia\", \"Grave\", \"Leve\", \"Grave\", \"Grave\", \"Grav\\u00edssima\", \"M\\u00e9dia\", \"Grave\", \"Grave\", \"Grav\\u00edssima\", \"Grave\", \"M\\u00e9dia\", \"Grave\", \"Grave\", \"Grav\\u00edssima\", \"Grave\", \"Grave\", \"Grave\", \"Grave\", \"Grave\", \"Grave\", \"Grave\", \"Grave\", \"Grave\", \"Grav\\u00edssima\", \"Grave\", \"M\\u00e9dia\", \"M\\u00e9dia\", \"M\\u00e9dia\", \"M\\u00e9dia\", \"Grave\", \"Grave\", \"M\\u00e9dia\", \"Grave\", \"M\\u00e9dia\", \"M\\u00e9dia\", \"Grave\", \"M\\u00e9dia\", \"Grav\\u00edssima\", \"Grav\\u00edssima\", \"Grav\\u00edssima\", \"Grav\\u00edssima\", \"Grav\\u00edssima\", \"Grav\\u00edssima\", \"Grav\\u00edssima\", \"Grav\\u00edssima\", \"Grav\\u00edssima\", \"Grav\\u00edssima\", \"M\\u00e9dia\", \"Grav\\u00edssima\", \"Grav\\u00edssima\", \"Grav\\u00edssima\", \"Grav\\u00edssima\", \"Grav\\u00edssima\", \"M\\u00e9dia\", \"Grav\\u00edssima\", \"Grav\\u00edssima\", \"Grav\\u00edssima\", \"Grave\", \"Grav\\u00edssima\", \"Grav\\u00edssima\", \"Grav\\u00edssima\", \"Grav\\u00edssima\", \"M\\u00e9dia\", \"Grav\\u00edssima\", \"M\\u00e9dia\", \"M\\u00e9dia\", \"M\\u00e9dia\", \"M\\u00e9dia\", \"M\\u00e9dia\", \"Grave\", \"M\\u00e9dia\", \"Grave\", \"Grav\\u00edssima\", \"M\\u00e9dia\", \"Grave\", \"Grave\", \"Grave\", \"M\\u00e9dia\", \"Grav\\u00edssima\", \"Grave\", \"Grav\\u00edssima\", \"Grav\\u00edssima\", \"Grave\", \"Grave\", \"Grave\", \"Grave\", \"Grave\", \"Grave\", \"Grave\", \"Grave\", \"Grave\", \"Grave\", \"Grave\", \"Grave\"], \"xaxis\": \"x\", \"yaxis\": \"y\"}],\n",
              "                        {\"barmode\": \"relative\", \"legend\": {\"tracegroupgap\": 0}, \"margin\": {\"t\": 60}, \"template\": {\"data\": {\"bar\": [{\"error_x\": {\"color\": \"#2a3f5f\"}, \"error_y\": {\"color\": \"#2a3f5f\"}, \"marker\": {\"line\": {\"color\": \"#E5ECF6\", \"width\": 0.5}}, \"type\": \"bar\"}], \"barpolar\": [{\"marker\": {\"line\": {\"color\": \"#E5ECF6\", \"width\": 0.5}}, \"type\": \"barpolar\"}], \"carpet\": [{\"aaxis\": {\"endlinecolor\": \"#2a3f5f\", \"gridcolor\": \"white\", \"linecolor\": \"white\", \"minorgridcolor\": \"white\", \"startlinecolor\": \"#2a3f5f\"}, \"baxis\": {\"endlinecolor\": \"#2a3f5f\", \"gridcolor\": \"white\", \"linecolor\": \"white\", \"minorgridcolor\": \"white\", \"startlinecolor\": \"#2a3f5f\"}, \"type\": \"carpet\"}], \"choropleth\": [{\"colorbar\": {\"outlinewidth\": 0, \"ticks\": \"\"}, \"type\": \"choropleth\"}], \"contour\": [{\"colorbar\": {\"outlinewidth\": 0, \"ticks\": \"\"}, \"colorscale\": [[0.0, \"#0d0887\"], [0.1111111111111111, \"#46039f\"], [0.2222222222222222, \"#7201a8\"], [0.3333333333333333, \"#9c179e\"], [0.4444444444444444, \"#bd3786\"], [0.5555555555555556, \"#d8576b\"], [0.6666666666666666, \"#ed7953\"], [0.7777777777777778, \"#fb9f3a\"], [0.8888888888888888, \"#fdca26\"], [1.0, \"#f0f921\"]], \"type\": \"contour\"}], \"contourcarpet\": [{\"colorbar\": {\"outlinewidth\": 0, \"ticks\": \"\"}, \"type\": \"contourcarpet\"}], \"heatmap\": [{\"colorbar\": {\"outlinewidth\": 0, \"ticks\": \"\"}, \"colorscale\": [[0.0, \"#0d0887\"], [0.1111111111111111, \"#46039f\"], [0.2222222222222222, \"#7201a8\"], [0.3333333333333333, \"#9c179e\"], [0.4444444444444444, \"#bd3786\"], [0.5555555555555556, \"#d8576b\"], [0.6666666666666666, \"#ed7953\"], [0.7777777777777778, \"#fb9f3a\"], [0.8888888888888888, \"#fdca26\"], [1.0, \"#f0f921\"]], \"type\": \"heatmap\"}], \"heatmapgl\": [{\"colorbar\": {\"outlinewidth\": 0, \"ticks\": \"\"}, \"colorscale\": [[0.0, \"#0d0887\"], [0.1111111111111111, \"#46039f\"], [0.2222222222222222, \"#7201a8\"], [0.3333333333333333, \"#9c179e\"], [0.4444444444444444, \"#bd3786\"], [0.5555555555555556, \"#d8576b\"], [0.6666666666666666, \"#ed7953\"], [0.7777777777777778, \"#fb9f3a\"], [0.8888888888888888, \"#fdca26\"], [1.0, \"#f0f921\"]], \"type\": \"heatmapgl\"}], \"histogram\": [{\"marker\": {\"colorbar\": {\"outlinewidth\": 0, \"ticks\": \"\"}}, \"type\": \"histogram\"}], \"histogram2d\": [{\"colorbar\": {\"outlinewidth\": 0, \"ticks\": \"\"}, \"colorscale\": [[0.0, \"#0d0887\"], [0.1111111111111111, \"#46039f\"], [0.2222222222222222, \"#7201a8\"], [0.3333333333333333, \"#9c179e\"], [0.4444444444444444, \"#bd3786\"], [0.5555555555555556, \"#d8576b\"], [0.6666666666666666, \"#ed7953\"], [0.7777777777777778, \"#fb9f3a\"], [0.8888888888888888, \"#fdca26\"], [1.0, \"#f0f921\"]], \"type\": \"histogram2d\"}], \"histogram2dcontour\": [{\"colorbar\": {\"outlinewidth\": 0, \"ticks\": \"\"}, \"colorscale\": [[0.0, \"#0d0887\"], [0.1111111111111111, \"#46039f\"], [0.2222222222222222, \"#7201a8\"], [0.3333333333333333, \"#9c179e\"], [0.4444444444444444, \"#bd3786\"], [0.5555555555555556, \"#d8576b\"], [0.6666666666666666, \"#ed7953\"], [0.7777777777777778, \"#fb9f3a\"], [0.8888888888888888, \"#fdca26\"], [1.0, \"#f0f921\"]], \"type\": \"histogram2dcontour\"}], \"mesh3d\": [{\"colorbar\": {\"outlinewidth\": 0, \"ticks\": \"\"}, \"type\": \"mesh3d\"}], \"parcoords\": [{\"line\": {\"colorbar\": {\"outlinewidth\": 0, \"ticks\": \"\"}}, \"type\": \"parcoords\"}], \"pie\": [{\"automargin\": true, \"type\": \"pie\"}], \"scatter\": [{\"marker\": {\"colorbar\": {\"outlinewidth\": 0, \"ticks\": \"\"}}, \"type\": \"scatter\"}], \"scatter3d\": [{\"line\": {\"colorbar\": {\"outlinewidth\": 0, \"ticks\": \"\"}}, \"marker\": {\"colorbar\": {\"outlinewidth\": 0, \"ticks\": \"\"}}, \"type\": \"scatter3d\"}], \"scattercarpet\": [{\"marker\": {\"colorbar\": {\"outlinewidth\": 0, \"ticks\": \"\"}}, \"type\": \"scattercarpet\"}], \"scattergeo\": [{\"marker\": {\"colorbar\": {\"outlinewidth\": 0, \"ticks\": \"\"}}, \"type\": \"scattergeo\"}], \"scattergl\": [{\"marker\": {\"colorbar\": {\"outlinewidth\": 0, \"ticks\": \"\"}}, \"type\": \"scattergl\"}], \"scattermapbox\": [{\"marker\": {\"colorbar\": {\"outlinewidth\": 0, \"ticks\": \"\"}}, \"type\": \"scattermapbox\"}], \"scatterpolar\": [{\"marker\": {\"colorbar\": {\"outlinewidth\": 0, \"ticks\": \"\"}}, \"type\": \"scatterpolar\"}], \"scatterpolargl\": [{\"marker\": {\"colorbar\": {\"outlinewidth\": 0, \"ticks\": \"\"}}, \"type\": \"scatterpolargl\"}], \"scatterternary\": [{\"marker\": {\"colorbar\": {\"outlinewidth\": 0, \"ticks\": \"\"}}, \"type\": \"scatterternary\"}], \"surface\": [{\"colorbar\": {\"outlinewidth\": 0, \"ticks\": \"\"}, \"colorscale\": [[0.0, \"#0d0887\"], [0.1111111111111111, \"#46039f\"], [0.2222222222222222, \"#7201a8\"], [0.3333333333333333, \"#9c179e\"], [0.4444444444444444, \"#bd3786\"], [0.5555555555555556, \"#d8576b\"], [0.6666666666666666, \"#ed7953\"], [0.7777777777777778, \"#fb9f3a\"], [0.8888888888888888, \"#fdca26\"], [1.0, \"#f0f921\"]], \"type\": \"surface\"}], \"table\": [{\"cells\": {\"fill\": {\"color\": \"#EBF0F8\"}, \"line\": {\"color\": \"white\"}}, \"header\": {\"fill\": {\"color\": \"#C8D4E3\"}, \"line\": {\"color\": \"white\"}}, \"type\": \"table\"}]}, \"layout\": {\"annotationdefaults\": {\"arrowcolor\": \"#2a3f5f\", \"arrowhead\": 0, \"arrowwidth\": 1}, \"coloraxis\": {\"colorbar\": {\"outlinewidth\": 0, \"ticks\": \"\"}}, \"colorscale\": {\"diverging\": [[0, \"#8e0152\"], [0.1, \"#c51b7d\"], [0.2, \"#de77ae\"], [0.3, \"#f1b6da\"], [0.4, \"#fde0ef\"], [0.5, \"#f7f7f7\"], [0.6, \"#e6f5d0\"], [0.7, \"#b8e186\"], [0.8, \"#7fbc41\"], [0.9, \"#4d9221\"], [1, \"#276419\"]], \"sequential\": [[0.0, \"#0d0887\"], [0.1111111111111111, \"#46039f\"], [0.2222222222222222, \"#7201a8\"], [0.3333333333333333, \"#9c179e\"], [0.4444444444444444, \"#bd3786\"], [0.5555555555555556, \"#d8576b\"], [0.6666666666666666, \"#ed7953\"], [0.7777777777777778, \"#fb9f3a\"], [0.8888888888888888, \"#fdca26\"], [1.0, \"#f0f921\"]], \"sequentialminus\": [[0.0, \"#0d0887\"], [0.1111111111111111, \"#46039f\"], [0.2222222222222222, \"#7201a8\"], [0.3333333333333333, \"#9c179e\"], [0.4444444444444444, \"#bd3786\"], [0.5555555555555556, \"#d8576b\"], [0.6666666666666666, \"#ed7953\"], [0.7777777777777778, \"#fb9f3a\"], [0.8888888888888888, \"#fdca26\"], [1.0, \"#f0f921\"]]}, \"colorway\": [\"#636efa\", \"#EF553B\", \"#00cc96\", \"#ab63fa\", \"#FFA15A\", \"#19d3f3\", \"#FF6692\", \"#B6E880\", \"#FF97FF\", \"#FECB52\"], \"font\": {\"color\": \"#2a3f5f\"}, \"geo\": {\"bgcolor\": \"white\", \"lakecolor\": \"white\", \"landcolor\": \"#E5ECF6\", \"showlakes\": true, \"showland\": true, \"subunitcolor\": \"white\"}, \"hoverlabel\": {\"align\": \"left\"}, \"hovermode\": \"closest\", \"mapbox\": {\"style\": \"light\"}, \"paper_bgcolor\": \"white\", \"plot_bgcolor\": \"#E5ECF6\", \"polar\": {\"angularaxis\": {\"gridcolor\": \"white\", \"linecolor\": \"white\", \"ticks\": \"\"}, \"bgcolor\": \"#E5ECF6\", \"radialaxis\": {\"gridcolor\": \"white\", \"linecolor\": \"white\", \"ticks\": \"\"}}, \"scene\": {\"xaxis\": {\"backgroundcolor\": \"#E5ECF6\", \"gridcolor\": \"white\", \"gridwidth\": 2, \"linecolor\": \"white\", \"showbackground\": true, \"ticks\": \"\", \"zerolinecolor\": \"white\"}, \"yaxis\": {\"backgroundcolor\": \"#E5ECF6\", \"gridcolor\": \"white\", \"gridwidth\": 2, \"linecolor\": \"white\", \"showbackground\": true, \"ticks\": \"\", \"zerolinecolor\": \"white\"}, \"zaxis\": {\"backgroundcolor\": \"#E5ECF6\", \"gridcolor\": \"white\", \"gridwidth\": 2, \"linecolor\": \"white\", \"showbackground\": true, \"ticks\": \"\", \"zerolinecolor\": \"white\"}}, \"shapedefaults\": {\"line\": {\"color\": \"#2a3f5f\"}}, \"ternary\": {\"aaxis\": {\"gridcolor\": \"white\", \"linecolor\": \"white\", \"ticks\": \"\"}, \"baxis\": {\"gridcolor\": \"white\", \"linecolor\": \"white\", \"ticks\": \"\"}, \"bgcolor\": \"#E5ECF6\", \"caxis\": {\"gridcolor\": \"white\", \"linecolor\": \"white\", \"ticks\": \"\"}}, \"title\": {\"x\": 0.05}, \"xaxis\": {\"automargin\": true, \"gridcolor\": \"white\", \"linecolor\": \"white\", \"ticks\": \"\", \"title\": {\"standoff\": 15}, \"zerolinecolor\": \"white\", \"zerolinewidth\": 2}, \"yaxis\": {\"automargin\": true, \"gridcolor\": \"white\", \"linecolor\": \"white\", \"ticks\": \"\", \"title\": {\"standoff\": 15}, \"zerolinecolor\": \"white\", \"zerolinewidth\": 2}}}, \"xaxis\": {\"anchor\": \"y\", \"domain\": [0.0, 1.0], \"title\": {\"text\": \"grav_tipo\"}}, \"yaxis\": {\"anchor\": \"x\", \"domain\": [0.0, 1.0], \"title\": {\"text\": \"count\"}}},\n",
              "                        {\"responsive\": true}\n",
              "                    ).then(function(){\n",
              "                            \n",
              "var gd = document.getElementById('69bfc9f0-9812-4ccc-8f98-70ff7a3bd479');\n",
              "var x = new MutationObserver(function (mutations, observer) {{\n",
              "        var display = window.getComputedStyle(gd).display;\n",
              "        if (!display || display === 'none') {{\n",
              "            console.log([gd, 'removed!']);\n",
              "            Plotly.purge(gd);\n",
              "            observer.disconnect();\n",
              "        }}\n",
              "}});\n",
              "\n",
              "// Listen for the removal of the full notebook cells\n",
              "var notebookContainer = gd.closest('#notebook-container');\n",
              "if (notebookContainer) {{\n",
              "    x.observe(notebookContainer, {childList: true});\n",
              "}}\n",
              "\n",
              "// Listen for the clearing of the current output cell\n",
              "var outputEl = gd.closest('.output');\n",
              "if (outputEl) {{\n",
              "    x.observe(outputEl, {childList: true});\n",
              "}}\n",
              "\n",
              "                        })\n",
              "                };\n",
              "                \n",
              "            </script>\n",
              "        </div>\n",
              "</body>\n",
              "</html>"
            ]
          },
          "metadata": {
            "tags": []
          }
        }
      ]
    },
    {
      "cell_type": "code",
      "metadata": {
        "colab": {
          "base_uri": "https://localhost:8080/",
          "height": 777
        },
        "id": "V3lbQxsR0nil",
        "outputId": "6fc7c697-265e-427a-b3f6-624305d0741f"
      },
      "source": [
        "colors = px.colors.qualitative.swatches()\n",
        "colors.show()\n"
      ],
      "execution_count": 46,
      "outputs": [
        {
          "output_type": "display_data",
          "data": {
            "text/html": [
              "<html>\n",
              "<head><meta charset=\"utf-8\" /></head>\n",
              "<body>\n",
              "    <div>\n",
              "            <script src=\"https://cdnjs.cloudflare.com/ajax/libs/mathjax/2.7.5/MathJax.js?config=TeX-AMS-MML_SVG\"></script><script type=\"text/javascript\">if (window.MathJax) {MathJax.Hub.Config({SVG: {font: \"STIX-Web\"}});}</script>\n",
              "                <script type=\"text/javascript\">window.PlotlyConfig = {MathJaxConfig: 'local'};</script>\n",
              "        <script src=\"https://cdn.plot.ly/plotly-latest.min.js\"></script>    \n",
              "            <div id=\"e2ab9434-0fb2-4bec-8d59-2bc679b9417f\" class=\"plotly-graph-div\" style=\"height:760px; width:100%;\"></div>\n",
              "            <script type=\"text/javascript\">\n",
              "                \n",
              "                    window.PLOTLYENV=window.PLOTLYENV || {};\n",
              "                    \n",
              "                if (document.getElementById(\"e2ab9434-0fb2-4bec-8d59-2bc679b9417f\")) {\n",
              "                    Plotly.newPlot(\n",
              "                        'e2ab9434-0fb2-4bec-8d59-2bc679b9417f',\n",
              "                        [{\"customdata\": [0, 1, 2, 3, 4, 5, 6, 7, 8, 9, 10], \"hovertemplate\": \"%{y}[%{customdata}] = %{marker.color}<extra></extra>\", \"marker\": {\"color\": [\"rgb(229, 134, 6)\", \"rgb(93, 105, 177)\", \"rgb(82, 188, 163)\", \"rgb(153, 201, 69)\", \"rgb(204, 97, 176)\", \"rgb(36, 121, 108)\", \"rgb(218, 165, 27)\", \"rgb(47, 138, 196)\", \"rgb(118, 78, 159)\", \"rgb(237, 100, 90)\", \"rgb(165, 170, 153)\"]}, \"orientation\": \"h\", \"type\": \"bar\", \"x\": [1, 1, 1, 1, 1, 1, 1, 1, 1, 1, 1], \"y\": [\"Vivid\", \"Vivid\", \"Vivid\", \"Vivid\", \"Vivid\", \"Vivid\", \"Vivid\", \"Vivid\", \"Vivid\", \"Vivid\", \"Vivid\"]}, {\"customdata\": [0, 1, 2, 3, 4, 5, 6, 7, 8, 9, 10], \"hovertemplate\": \"%{y}[%{customdata}] = %{marker.color}<extra></extra>\", \"marker\": {\"color\": [\"rgb(136, 204, 238)\", \"rgb(204, 102, 119)\", \"rgb(221, 204, 119)\", \"rgb(17, 119, 51)\", \"rgb(51, 34, 136)\", \"rgb(170, 68, 153)\", \"rgb(68, 170, 153)\", \"rgb(153, 153, 51)\", \"rgb(136, 34, 85)\", \"rgb(102, 17, 0)\", \"rgb(136, 136, 136)\"]}, \"orientation\": \"h\", \"type\": \"bar\", \"x\": [1, 1, 1, 1, 1, 1, 1, 1, 1, 1, 1], \"y\": [\"Safe\", \"Safe\", \"Safe\", \"Safe\", \"Safe\", \"Safe\", \"Safe\", \"Safe\", \"Safe\", \"Safe\", \"Safe\"]}, {\"customdata\": [0, 1, 2, 3, 4, 5, 6, 7, 8, 9, 10], \"hovertemplate\": \"%{y}[%{customdata}] = %{marker.color}<extra></extra>\", \"marker\": {\"color\": [\"rgb(95, 70, 144)\", \"rgb(29, 105, 150)\", \"rgb(56, 166, 165)\", \"rgb(15, 133, 84)\", \"rgb(115, 175, 72)\", \"rgb(237, 173, 8)\", \"rgb(225, 124, 5)\", \"rgb(204, 80, 62)\", \"rgb(148, 52, 110)\", \"rgb(111, 64, 112)\", \"rgb(102, 102, 102)\"]}, \"orientation\": \"h\", \"type\": \"bar\", \"x\": [1, 1, 1, 1, 1, 1, 1, 1, 1, 1, 1], \"y\": [\"Prism\", \"Prism\", \"Prism\", \"Prism\", \"Prism\", \"Prism\", \"Prism\", \"Prism\", \"Prism\", \"Prism\", \"Prism\"]}, {\"customdata\": [0, 1, 2, 3, 4, 5, 6, 7, 8, 9, 10], \"hovertemplate\": \"%{y}[%{customdata}] = %{marker.color}<extra></extra>\", \"marker\": {\"color\": [\"rgb(102, 197, 204)\", \"rgb(246, 207, 113)\", \"rgb(248, 156, 116)\", \"rgb(220, 176, 242)\", \"rgb(135, 197, 95)\", \"rgb(158, 185, 243)\", \"rgb(254, 136, 177)\", \"rgb(201, 219, 116)\", \"rgb(139, 224, 164)\", \"rgb(180, 151, 231)\", \"rgb(179, 179, 179)\"]}, \"orientation\": \"h\", \"type\": \"bar\", \"x\": [1, 1, 1, 1, 1, 1, 1, 1, 1, 1, 1], \"y\": [\"Pastel\", \"Pastel\", \"Pastel\", \"Pastel\", \"Pastel\", \"Pastel\", \"Pastel\", \"Pastel\", \"Pastel\", \"Pastel\", \"Pastel\"]}, {\"customdata\": [0, 1, 2, 3, 4, 5, 6, 7, 8, 9, 10], \"hovertemplate\": \"%{y}[%{customdata}] = %{marker.color}<extra></extra>\", \"marker\": {\"color\": [\"rgb(127, 60, 141)\", \"rgb(17, 165, 121)\", \"rgb(57, 105, 172)\", \"rgb(242, 183, 1)\", \"rgb(231, 63, 116)\", \"rgb(128, 186, 90)\", \"rgb(230, 131, 16)\", \"rgb(0, 134, 149)\", \"rgb(207, 28, 144)\", \"rgb(249, 123, 114)\", \"rgb(165, 170, 153)\"]}, \"orientation\": \"h\", \"type\": \"bar\", \"x\": [1, 1, 1, 1, 1, 1, 1, 1, 1, 1, 1], \"y\": [\"Bold\", \"Bold\", \"Bold\", \"Bold\", \"Bold\", \"Bold\", \"Bold\", \"Bold\", \"Bold\", \"Bold\", \"Bold\"]}, {\"customdata\": [0, 1, 2, 3, 4, 5, 6, 7, 8, 9, 10], \"hovertemplate\": \"%{y}[%{customdata}] = %{marker.color}<extra></extra>\", \"marker\": {\"color\": [\"rgb(133, 92, 117)\", \"rgb(217, 175, 107)\", \"rgb(175, 100, 88)\", \"rgb(115, 111, 76)\", \"rgb(82, 106, 131)\", \"rgb(98, 83, 119)\", \"rgb(104, 133, 92)\", \"rgb(156, 156, 94)\", \"rgb(160, 97, 119)\", \"rgb(140, 120, 93)\", \"rgb(124, 124, 124)\"]}, \"orientation\": \"h\", \"type\": \"bar\", \"x\": [1, 1, 1, 1, 1, 1, 1, 1, 1, 1, 1], \"y\": [\"Antique\", \"Antique\", \"Antique\", \"Antique\", \"Antique\", \"Antique\", \"Antique\", \"Antique\", \"Antique\", \"Antique\", \"Antique\"]}, {\"customdata\": [0, 1, 2, 3, 4, 5, 6, 7, 8, 9, 10, 11], \"hovertemplate\": \"%{y}[%{customdata}] = %{marker.color}<extra></extra>\", \"marker\": {\"color\": [\"rgb(141,211,199)\", \"rgb(255,255,179)\", \"rgb(190,186,218)\", \"rgb(251,128,114)\", \"rgb(128,177,211)\", \"rgb(253,180,98)\", \"rgb(179,222,105)\", \"rgb(252,205,229)\", \"rgb(217,217,217)\", \"rgb(188,128,189)\", \"rgb(204,235,197)\", \"rgb(255,237,111)\"]}, \"orientation\": \"h\", \"type\": \"bar\", \"x\": [1, 1, 1, 1, 1, 1, 1, 1, 1, 1, 1, 1], \"y\": [\"Set3\", \"Set3\", \"Set3\", \"Set3\", \"Set3\", \"Set3\", \"Set3\", \"Set3\", \"Set3\", \"Set3\", \"Set3\", \"Set3\"]}, {\"customdata\": [0, 1, 2, 3, 4, 5, 6, 7], \"hovertemplate\": \"%{y}[%{customdata}] = %{marker.color}<extra></extra>\", \"marker\": {\"color\": [\"rgb(179,226,205)\", \"rgb(253,205,172)\", \"rgb(203,213,232)\", \"rgb(244,202,228)\", \"rgb(230,245,201)\", \"rgb(255,242,174)\", \"rgb(241,226,204)\", \"rgb(204,204,204)\"]}, \"orientation\": \"h\", \"type\": \"bar\", \"x\": [1, 1, 1, 1, 1, 1, 1, 1], \"y\": [\"Pastel2\", \"Pastel2\", \"Pastel2\", \"Pastel2\", \"Pastel2\", \"Pastel2\", \"Pastel2\", \"Pastel2\"]}, {\"customdata\": [0, 1, 2, 3, 4, 5, 6, 7], \"hovertemplate\": \"%{y}[%{customdata}] = %{marker.color}<extra></extra>\", \"marker\": {\"color\": [\"rgb(102,194,165)\", \"rgb(252,141,98)\", \"rgb(141,160,203)\", \"rgb(231,138,195)\", \"rgb(166,216,84)\", \"rgb(255,217,47)\", \"rgb(229,196,148)\", \"rgb(179,179,179)\"]}, \"orientation\": \"h\", \"type\": \"bar\", \"x\": [1, 1, 1, 1, 1, 1, 1, 1], \"y\": [\"Set2\", \"Set2\", \"Set2\", \"Set2\", \"Set2\", \"Set2\", \"Set2\", \"Set2\"]}, {\"customdata\": [0, 1, 2, 3, 4, 5, 6, 7], \"hovertemplate\": \"%{y}[%{customdata}] = %{marker.color}<extra></extra>\", \"marker\": {\"color\": [\"rgb(27,158,119)\", \"rgb(217,95,2)\", \"rgb(117,112,179)\", \"rgb(231,41,138)\", \"rgb(102,166,30)\", \"rgb(230,171,2)\", \"rgb(166,118,29)\", \"rgb(102,102,102)\"]}, \"orientation\": \"h\", \"type\": \"bar\", \"x\": [1, 1, 1, 1, 1, 1, 1, 1], \"y\": [\"Dark2\", \"Dark2\", \"Dark2\", \"Dark2\", \"Dark2\", \"Dark2\", \"Dark2\", \"Dark2\"]}, {\"customdata\": [0, 1, 2, 3, 4, 5, 6, 7, 8], \"hovertemplate\": \"%{y}[%{customdata}] = %{marker.color}<extra></extra>\", \"marker\": {\"color\": [\"rgb(251,180,174)\", \"rgb(179,205,227)\", \"rgb(204,235,197)\", \"rgb(222,203,228)\", \"rgb(254,217,166)\", \"rgb(255,255,204)\", \"rgb(229,216,189)\", \"rgb(253,218,236)\", \"rgb(242,242,242)\"]}, \"orientation\": \"h\", \"type\": \"bar\", \"x\": [1, 1, 1, 1, 1, 1, 1, 1, 1], \"y\": [\"Pastel1\", \"Pastel1\", \"Pastel1\", \"Pastel1\", \"Pastel1\", \"Pastel1\", \"Pastel1\", \"Pastel1\", \"Pastel1\"]}, {\"customdata\": [0, 1, 2, 3, 4, 5, 6, 7, 8], \"hovertemplate\": \"%{y}[%{customdata}] = %{marker.color}<extra></extra>\", \"marker\": {\"color\": [\"rgb(228,26,28)\", \"rgb(55,126,184)\", \"rgb(77,175,74)\", \"rgb(152,78,163)\", \"rgb(255,127,0)\", \"rgb(255,255,51)\", \"rgb(166,86,40)\", \"rgb(247,129,191)\", \"rgb(153,153,153)\"]}, \"orientation\": \"h\", \"type\": \"bar\", \"x\": [1, 1, 1, 1, 1, 1, 1, 1, 1], \"y\": [\"Set1\", \"Set1\", \"Set1\", \"Set1\", \"Set1\", \"Set1\", \"Set1\", \"Set1\", \"Set1\"]}, {\"customdata\": [0, 1, 2, 3, 4, 5, 6, 7, 8, 9, 10, 11, 12, 13, 14, 15, 16, 17, 18, 19, 20, 21, 22, 23], \"hovertemplate\": \"%{y}[%{customdata}] = %{marker.color}<extra></extra>\", \"marker\": {\"color\": [\"#FD3216\", \"#00FE35\", \"#6A76FC\", \"#FED4C4\", \"#FE00CE\", \"#0DF9FF\", \"#F6F926\", \"#FF9616\", \"#479B55\", \"#EEA6FB\", \"#DC587D\", \"#D626FF\", \"#6E899C\", \"#00B5F7\", \"#B68E00\", \"#C9FBE5\", \"#FF0092\", \"#22FFA7\", \"#E3EE9E\", \"#86CE00\", \"#BC7196\", \"#7E7DCD\", \"#FC6955\", \"#E48F72\"]}, \"orientation\": \"h\", \"type\": \"bar\", \"x\": [1, 1, 1, 1, 1, 1, 1, 1, 1, 1, 1, 1, 1, 1, 1, 1, 1, 1, 1, 1, 1, 1, 1, 1], \"y\": [\"Light24\", \"Light24\", \"Light24\", \"Light24\", \"Light24\", \"Light24\", \"Light24\", \"Light24\", \"Light24\", \"Light24\", \"Light24\", \"Light24\", \"Light24\", \"Light24\", \"Light24\", \"Light24\", \"Light24\", \"Light24\", \"Light24\", \"Light24\", \"Light24\", \"Light24\", \"Light24\", \"Light24\"]}, {\"customdata\": [0, 1, 2, 3, 4, 5, 6, 7, 8, 9, 10, 11, 12, 13, 14, 15, 16, 17, 18, 19, 20, 21, 22, 23], \"hovertemplate\": \"%{y}[%{customdata}] = %{marker.color}<extra></extra>\", \"marker\": {\"color\": [\"#2E91E5\", \"#E15F99\", \"#1CA71C\", \"#FB0D0D\", \"#DA16FF\", \"#222A2A\", \"#B68100\", \"#750D86\", \"#EB663B\", \"#511CFB\", \"#00A08B\", \"#FB00D1\", \"#FC0080\", \"#B2828D\", \"#6C7C32\", \"#778AAE\", \"#862A16\", \"#A777F1\", \"#620042\", \"#1616A7\", \"#DA60CA\", \"#6C4516\", \"#0D2A63\", \"#AF0038\"]}, \"orientation\": \"h\", \"type\": \"bar\", \"x\": [1, 1, 1, 1, 1, 1, 1, 1, 1, 1, 1, 1, 1, 1, 1, 1, 1, 1, 1, 1, 1, 1, 1, 1], \"y\": [\"Dark24\", \"Dark24\", \"Dark24\", \"Dark24\", \"Dark24\", \"Dark24\", \"Dark24\", \"Dark24\", \"Dark24\", \"Dark24\", \"Dark24\", \"Dark24\", \"Dark24\", \"Dark24\", \"Dark24\", \"Dark24\", \"Dark24\", \"Dark24\", \"Dark24\", \"Dark24\", \"Dark24\", \"Dark24\", \"Dark24\", \"Dark24\"]}, {\"customdata\": [0, 1, 2, 3, 4, 5, 6, 7, 8, 9, 10, 11, 12, 13, 14, 15, 16, 17, 18, 19, 20, 21, 22, 23, 24, 25], \"hovertemplate\": \"%{y}[%{customdata}] = %{marker.color}<extra></extra>\", \"marker\": {\"color\": [\"#AA0DFE\", \"#3283FE\", \"#85660D\", \"#782AB6\", \"#565656\", \"#1C8356\", \"#16FF32\", \"#F7E1A0\", \"#E2E2E2\", \"#1CBE4F\", \"#C4451C\", \"#DEA0FD\", \"#FE00FA\", \"#325A9B\", \"#FEAF16\", \"#F8A19F\", \"#90AD1C\", \"#F6222E\", \"#1CFFCE\", \"#2ED9FF\", \"#B10DA1\", \"#C075A6\", \"#FC1CBF\", \"#B00068\", \"#FBE426\", \"#FA0087\"]}, \"orientation\": \"h\", \"type\": \"bar\", \"x\": [1, 1, 1, 1, 1, 1, 1, 1, 1, 1, 1, 1, 1, 1, 1, 1, 1, 1, 1, 1, 1, 1, 1, 1, 1, 1], \"y\": [\"Alphabet\", \"Alphabet\", \"Alphabet\", \"Alphabet\", \"Alphabet\", \"Alphabet\", \"Alphabet\", \"Alphabet\", \"Alphabet\", \"Alphabet\", \"Alphabet\", \"Alphabet\", \"Alphabet\", \"Alphabet\", \"Alphabet\", \"Alphabet\", \"Alphabet\", \"Alphabet\", \"Alphabet\", \"Alphabet\", \"Alphabet\", \"Alphabet\", \"Alphabet\", \"Alphabet\", \"Alphabet\", \"Alphabet\"]}, {\"customdata\": [0, 1, 2, 3, 4, 5, 6, 7, 8, 9], \"hovertemplate\": \"%{y}[%{customdata}] = %{marker.color}<extra></extra>\", \"marker\": {\"color\": [\"#4C78A8\", \"#F58518\", \"#E45756\", \"#72B7B2\", \"#54A24B\", \"#EECA3B\", \"#B279A2\", \"#FF9DA6\", \"#9D755D\", \"#BAB0AC\"]}, \"orientation\": \"h\", \"type\": \"bar\", \"x\": [1, 1, 1, 1, 1, 1, 1, 1, 1, 1], \"y\": [\"T10\", \"T10\", \"T10\", \"T10\", \"T10\", \"T10\", \"T10\", \"T10\", \"T10\", \"T10\"]}, {\"customdata\": [0, 1, 2, 3, 4, 5, 6, 7, 8, 9], \"hovertemplate\": \"%{y}[%{customdata}] = %{marker.color}<extra></extra>\", \"marker\": {\"color\": [\"#3366CC\", \"#DC3912\", \"#FF9900\", \"#109618\", \"#990099\", \"#0099C6\", \"#DD4477\", \"#66AA00\", \"#B82E2E\", \"#316395\"]}, \"orientation\": \"h\", \"type\": \"bar\", \"x\": [1, 1, 1, 1, 1, 1, 1, 1, 1, 1], \"y\": [\"G10\", \"G10\", \"G10\", \"G10\", \"G10\", \"G10\", \"G10\", \"G10\", \"G10\", \"G10\"]}, {\"customdata\": [0, 1, 2, 3, 4, 5, 6, 7, 8, 9], \"hovertemplate\": \"%{y}[%{customdata}] = %{marker.color}<extra></extra>\", \"marker\": {\"color\": [\"#1F77B4\", \"#FF7F0E\", \"#2CA02C\", \"#D62728\", \"#9467BD\", \"#8C564B\", \"#E377C2\", \"#7F7F7F\", \"#BCBD22\", \"#17BECF\"]}, \"orientation\": \"h\", \"type\": \"bar\", \"x\": [1, 1, 1, 1, 1, 1, 1, 1, 1, 1], \"y\": [\"D3\", \"D3\", \"D3\", \"D3\", \"D3\", \"D3\", \"D3\", \"D3\", \"D3\", \"D3\"]}, {\"customdata\": [0, 1, 2, 3, 4, 5, 6, 7, 8, 9], \"hovertemplate\": \"%{y}[%{customdata}] = %{marker.color}<extra></extra>\", \"marker\": {\"color\": [\"#636EFA\", \"#EF553B\", \"#00CC96\", \"#AB63FA\", \"#FFA15A\", \"#19D3F3\", \"#FF6692\", \"#B6E880\", \"#FF97FF\", \"#FECB52\"]}, \"orientation\": \"h\", \"type\": \"bar\", \"x\": [1, 1, 1, 1, 1, 1, 1, 1, 1, 1], \"y\": [\"Plotly\", \"Plotly\", \"Plotly\", \"Plotly\", \"Plotly\", \"Plotly\", \"Plotly\", \"Plotly\", \"Plotly\", \"Plotly\"]}],\n",
              "                        {\"bargap\": 0.5, \"barmode\": \"stack\", \"barnorm\": \"fraction\", \"height\": 760, \"showlegend\": false, \"template\": {\"data\": {\"bar\": [{\"error_x\": {\"color\": \"#2a3f5f\"}, \"error_y\": {\"color\": \"#2a3f5f\"}, \"marker\": {\"line\": {\"color\": \"#E5ECF6\", \"width\": 0.5}}, \"type\": \"bar\"}], \"barpolar\": [{\"marker\": {\"line\": {\"color\": \"#E5ECF6\", \"width\": 0.5}}, \"type\": \"barpolar\"}], \"carpet\": [{\"aaxis\": {\"endlinecolor\": \"#2a3f5f\", \"gridcolor\": \"white\", \"linecolor\": \"white\", \"minorgridcolor\": \"white\", \"startlinecolor\": \"#2a3f5f\"}, \"baxis\": {\"endlinecolor\": \"#2a3f5f\", \"gridcolor\": \"white\", \"linecolor\": \"white\", \"minorgridcolor\": \"white\", \"startlinecolor\": \"#2a3f5f\"}, \"type\": \"carpet\"}], \"choropleth\": [{\"colorbar\": {\"outlinewidth\": 0, \"ticks\": \"\"}, \"type\": \"choropleth\"}], \"contour\": [{\"colorbar\": {\"outlinewidth\": 0, \"ticks\": \"\"}, \"colorscale\": [[0.0, \"#0d0887\"], [0.1111111111111111, \"#46039f\"], [0.2222222222222222, \"#7201a8\"], [0.3333333333333333, \"#9c179e\"], [0.4444444444444444, \"#bd3786\"], [0.5555555555555556, \"#d8576b\"], [0.6666666666666666, \"#ed7953\"], [0.7777777777777778, \"#fb9f3a\"], [0.8888888888888888, \"#fdca26\"], [1.0, \"#f0f921\"]], \"type\": \"contour\"}], \"contourcarpet\": [{\"colorbar\": {\"outlinewidth\": 0, \"ticks\": \"\"}, \"type\": \"contourcarpet\"}], \"heatmap\": [{\"colorbar\": {\"outlinewidth\": 0, \"ticks\": \"\"}, \"colorscale\": [[0.0, \"#0d0887\"], [0.1111111111111111, \"#46039f\"], [0.2222222222222222, \"#7201a8\"], [0.3333333333333333, \"#9c179e\"], [0.4444444444444444, \"#bd3786\"], [0.5555555555555556, \"#d8576b\"], [0.6666666666666666, \"#ed7953\"], [0.7777777777777778, \"#fb9f3a\"], [0.8888888888888888, \"#fdca26\"], [1.0, \"#f0f921\"]], \"type\": \"heatmap\"}], \"heatmapgl\": [{\"colorbar\": {\"outlinewidth\": 0, \"ticks\": \"\"}, \"colorscale\": [[0.0, \"#0d0887\"], [0.1111111111111111, \"#46039f\"], [0.2222222222222222, \"#7201a8\"], [0.3333333333333333, \"#9c179e\"], [0.4444444444444444, \"#bd3786\"], [0.5555555555555556, \"#d8576b\"], [0.6666666666666666, \"#ed7953\"], [0.7777777777777778, \"#fb9f3a\"], [0.8888888888888888, \"#fdca26\"], [1.0, \"#f0f921\"]], \"type\": \"heatmapgl\"}], \"histogram\": [{\"marker\": {\"colorbar\": {\"outlinewidth\": 0, \"ticks\": \"\"}}, \"type\": \"histogram\"}], \"histogram2d\": [{\"colorbar\": {\"outlinewidth\": 0, \"ticks\": \"\"}, \"colorscale\": [[0.0, \"#0d0887\"], [0.1111111111111111, \"#46039f\"], [0.2222222222222222, \"#7201a8\"], [0.3333333333333333, \"#9c179e\"], [0.4444444444444444, \"#bd3786\"], [0.5555555555555556, \"#d8576b\"], [0.6666666666666666, \"#ed7953\"], [0.7777777777777778, \"#fb9f3a\"], [0.8888888888888888, \"#fdca26\"], [1.0, \"#f0f921\"]], \"type\": \"histogram2d\"}], \"histogram2dcontour\": [{\"colorbar\": {\"outlinewidth\": 0, \"ticks\": \"\"}, \"colorscale\": [[0.0, \"#0d0887\"], [0.1111111111111111, \"#46039f\"], [0.2222222222222222, \"#7201a8\"], [0.3333333333333333, \"#9c179e\"], [0.4444444444444444, \"#bd3786\"], [0.5555555555555556, \"#d8576b\"], [0.6666666666666666, \"#ed7953\"], [0.7777777777777778, \"#fb9f3a\"], [0.8888888888888888, \"#fdca26\"], [1.0, \"#f0f921\"]], \"type\": \"histogram2dcontour\"}], \"mesh3d\": [{\"colorbar\": {\"outlinewidth\": 0, \"ticks\": \"\"}, \"type\": \"mesh3d\"}], \"parcoords\": [{\"line\": {\"colorbar\": {\"outlinewidth\": 0, \"ticks\": \"\"}}, \"type\": \"parcoords\"}], \"pie\": [{\"automargin\": true, \"type\": \"pie\"}], \"scatter\": [{\"marker\": {\"colorbar\": {\"outlinewidth\": 0, \"ticks\": \"\"}}, \"type\": \"scatter\"}], \"scatter3d\": [{\"line\": {\"colorbar\": {\"outlinewidth\": 0, \"ticks\": \"\"}}, \"marker\": {\"colorbar\": {\"outlinewidth\": 0, \"ticks\": \"\"}}, \"type\": \"scatter3d\"}], \"scattercarpet\": [{\"marker\": {\"colorbar\": {\"outlinewidth\": 0, \"ticks\": \"\"}}, \"type\": \"scattercarpet\"}], \"scattergeo\": [{\"marker\": {\"colorbar\": {\"outlinewidth\": 0, \"ticks\": \"\"}}, \"type\": \"scattergeo\"}], \"scattergl\": [{\"marker\": {\"colorbar\": {\"outlinewidth\": 0, \"ticks\": \"\"}}, \"type\": \"scattergl\"}], \"scattermapbox\": [{\"marker\": {\"colorbar\": {\"outlinewidth\": 0, \"ticks\": \"\"}}, \"type\": \"scattermapbox\"}], \"scatterpolar\": [{\"marker\": {\"colorbar\": {\"outlinewidth\": 0, \"ticks\": \"\"}}, \"type\": \"scatterpolar\"}], \"scatterpolargl\": [{\"marker\": {\"colorbar\": {\"outlinewidth\": 0, \"ticks\": \"\"}}, \"type\": \"scatterpolargl\"}], \"scatterternary\": [{\"marker\": {\"colorbar\": {\"outlinewidth\": 0, \"ticks\": \"\"}}, \"type\": \"scatterternary\"}], \"surface\": [{\"colorbar\": {\"outlinewidth\": 0, \"ticks\": \"\"}, \"colorscale\": [[0.0, \"#0d0887\"], [0.1111111111111111, \"#46039f\"], [0.2222222222222222, \"#7201a8\"], [0.3333333333333333, \"#9c179e\"], [0.4444444444444444, \"#bd3786\"], [0.5555555555555556, \"#d8576b\"], [0.6666666666666666, \"#ed7953\"], [0.7777777777777778, \"#fb9f3a\"], [0.8888888888888888, \"#fdca26\"], [1.0, \"#f0f921\"]], \"type\": \"surface\"}], \"table\": [{\"cells\": {\"fill\": {\"color\": \"#EBF0F8\"}, \"line\": {\"color\": \"white\"}}, \"header\": {\"fill\": {\"color\": \"#C8D4E3\"}, \"line\": {\"color\": \"white\"}}, \"type\": \"table\"}]}, \"layout\": {\"annotationdefaults\": {\"arrowcolor\": \"#2a3f5f\", \"arrowhead\": 0, \"arrowwidth\": 1}, \"coloraxis\": {\"colorbar\": {\"outlinewidth\": 0, \"ticks\": \"\"}}, \"colorscale\": {\"diverging\": [[0, \"#8e0152\"], [0.1, \"#c51b7d\"], [0.2, \"#de77ae\"], [0.3, \"#f1b6da\"], [0.4, \"#fde0ef\"], [0.5, \"#f7f7f7\"], [0.6, \"#e6f5d0\"], [0.7, \"#b8e186\"], [0.8, \"#7fbc41\"], [0.9, \"#4d9221\"], [1, \"#276419\"]], \"sequential\": [[0.0, \"#0d0887\"], [0.1111111111111111, \"#46039f\"], [0.2222222222222222, \"#7201a8\"], [0.3333333333333333, \"#9c179e\"], [0.4444444444444444, \"#bd3786\"], [0.5555555555555556, \"#d8576b\"], [0.6666666666666666, \"#ed7953\"], [0.7777777777777778, \"#fb9f3a\"], [0.8888888888888888, \"#fdca26\"], [1.0, \"#f0f921\"]], \"sequentialminus\": [[0.0, \"#0d0887\"], [0.1111111111111111, \"#46039f\"], [0.2222222222222222, \"#7201a8\"], [0.3333333333333333, \"#9c179e\"], [0.4444444444444444, \"#bd3786\"], [0.5555555555555556, \"#d8576b\"], [0.6666666666666666, \"#ed7953\"], [0.7777777777777778, \"#fb9f3a\"], [0.8888888888888888, \"#fdca26\"], [1.0, \"#f0f921\"]]}, \"colorway\": [\"#636efa\", \"#EF553B\", \"#00cc96\", \"#ab63fa\", \"#FFA15A\", \"#19d3f3\", \"#FF6692\", \"#B6E880\", \"#FF97FF\", \"#FECB52\"], \"font\": {\"color\": \"#2a3f5f\"}, \"geo\": {\"bgcolor\": \"white\", \"lakecolor\": \"white\", \"landcolor\": \"#E5ECF6\", \"showlakes\": true, \"showland\": true, \"subunitcolor\": \"white\"}, \"hoverlabel\": {\"align\": \"left\"}, \"hovermode\": \"closest\", \"mapbox\": {\"style\": \"light\"}, \"paper_bgcolor\": \"white\", \"plot_bgcolor\": \"#E5ECF6\", \"polar\": {\"angularaxis\": {\"gridcolor\": \"white\", \"linecolor\": \"white\", \"ticks\": \"\"}, \"bgcolor\": \"#E5ECF6\", \"radialaxis\": {\"gridcolor\": \"white\", \"linecolor\": \"white\", \"ticks\": \"\"}}, \"scene\": {\"xaxis\": {\"backgroundcolor\": \"#E5ECF6\", \"gridcolor\": \"white\", \"gridwidth\": 2, \"linecolor\": \"white\", \"showbackground\": true, \"ticks\": \"\", \"zerolinecolor\": \"white\"}, \"yaxis\": {\"backgroundcolor\": \"#E5ECF6\", \"gridcolor\": \"white\", \"gridwidth\": 2, \"linecolor\": \"white\", \"showbackground\": true, \"ticks\": \"\", \"zerolinecolor\": \"white\"}, \"zaxis\": {\"backgroundcolor\": \"#E5ECF6\", \"gridcolor\": \"white\", \"gridwidth\": 2, \"linecolor\": \"white\", \"showbackground\": true, \"ticks\": \"\", \"zerolinecolor\": \"white\"}}, \"shapedefaults\": {\"line\": {\"color\": \"#2a3f5f\"}}, \"ternary\": {\"aaxis\": {\"gridcolor\": \"white\", \"linecolor\": \"white\", \"ticks\": \"\"}, \"baxis\": {\"gridcolor\": \"white\", \"linecolor\": \"white\", \"ticks\": \"\"}, \"bgcolor\": \"#E5ECF6\", \"caxis\": {\"gridcolor\": \"white\", \"linecolor\": \"white\", \"ticks\": \"\"}}, \"title\": {\"x\": 0.05}, \"xaxis\": {\"automargin\": true, \"gridcolor\": \"white\", \"linecolor\": \"white\", \"ticks\": \"\", \"title\": {\"standoff\": 15}, \"zerolinecolor\": \"white\", \"zerolinewidth\": 2}, \"yaxis\": {\"automargin\": true, \"gridcolor\": \"white\", \"linecolor\": \"white\", \"ticks\": \"\", \"title\": {\"standoff\": 15}, \"zerolinecolor\": \"white\", \"zerolinewidth\": 2}}}, \"title\": {\"text\": \"plotly.colors.qualitative\"}, \"xaxis\": {\"range\": [-0.02, 1.02], \"showgrid\": false, \"showticklabels\": false}},\n",
              "                        {\"responsive\": true}\n",
              "                    ).then(function(){\n",
              "                            \n",
              "var gd = document.getElementById('e2ab9434-0fb2-4bec-8d59-2bc679b9417f');\n",
              "var x = new MutationObserver(function (mutations, observer) {{\n",
              "        var display = window.getComputedStyle(gd).display;\n",
              "        if (!display || display === 'none') {{\n",
              "            console.log([gd, 'removed!']);\n",
              "            Plotly.purge(gd);\n",
              "            observer.disconnect();\n",
              "        }}\n",
              "}});\n",
              "\n",
              "// Listen for the removal of the full notebook cells\n",
              "var notebookContainer = gd.closest('#notebook-container');\n",
              "if (notebookContainer) {{\n",
              "    x.observe(notebookContainer, {childList: true});\n",
              "}}\n",
              "\n",
              "// Listen for the clearing of the current output cell\n",
              "var outputEl = gd.closest('.output');\n",
              "if (outputEl) {{\n",
              "    x.observe(outputEl, {childList: true});\n",
              "}}\n",
              "\n",
              "                        })\n",
              "                };\n",
              "                \n",
              "            </script>\n",
              "        </div>\n",
              "</body>\n",
              "</html>"
            ]
          },
          "metadata": {
            "tags": []
          }
        }
      ]
    }
  ]
}